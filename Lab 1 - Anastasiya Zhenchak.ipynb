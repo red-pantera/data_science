{
 "cells": [
  {
   "cell_type": "markdown",
   "id": "bd04016f",
   "metadata": {},
   "source": [
    "# **1. Markdown cells**\n",
    "* Hi! Its Main Academy?\n",
    "* All HTML tabs are supported\n",
    "* Моя сторінка на [лінкедін](https://www.linkedin.com/) "
   ]
  },
  {
   "cell_type": "markdown",
   "id": "37b09467",
   "metadata": {},
   "source": [
    " # This is Heading1\n",
    " ## This is Heading2\n",
    " some gray colored text:\n",
    " >This is where we can bring quotes and represent them nicely\n",
    " \n",
    " And this is the paragraph about something very important. Even math:  \n",
    "$$y_{sub}=\\sqrt{(x_{sub})}$$\n",
    "\n"
   ]
  },
  {
   "cell_type": "markdown",
   "id": "bf05f386",
   "metadata": {},
   "source": [
    "Or python code example:\n",
    "```\n",
    "import math\n",
    "def foo():\n",
    "    return \"foo\"\n",
    "```"
   ]
  },
  {
   "cell_type": "markdown",
   "id": "3d30a0fc",
   "metadata": {},
   "source": [
    "Here is the sample mean:  \n",
    "$$\\tilde{y}=\\frac{1}{n}\\displaystyle\\sum_{i=1}^{n}y_i$$\n",
    "\n",
    "Here is the sample variance:\n",
    "$$\\sigma^2=\\frac{\\displaystyle\\sum_{i=1}^{n}(y_i-\\tilde{y})^2}{n-1}$$\n",
    "\n",
    "Here is the sample standart deviation:\n",
    "$$\\sigma=\\sqrt{\\frac{\\displaystyle\\sum_{i=1}^n(y_i-\\tilde{y})^2}{n-1}}$$\n"
   ]
  },
  {
   "cell_type": "code",
   "execution_count": null,
   "id": "11d9212f",
   "metadata": {},
   "outputs": [],
   "source": []
  }
 ],
 "metadata": {
  "kernelspec": {
   "display_name": "Python 3",
   "language": "python",
   "name": "python3"
  },
  "language_info": {
   "codemirror_mode": {
    "name": "ipython",
    "version": 3
   },
   "file_extension": ".py",
   "mimetype": "text/x-python",
   "name": "python",
   "nbconvert_exporter": "python",
   "pygments_lexer": "ipython3",
   "version": "3.8.8"
  }
 },
 "nbformat": 4,
 "nbformat_minor": 5
}
