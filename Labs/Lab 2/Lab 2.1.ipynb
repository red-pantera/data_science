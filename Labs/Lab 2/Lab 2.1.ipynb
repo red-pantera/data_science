{
 "cells": [
  {
   "cell_type": "markdown",
   "metadata": {},
   "source": [
    "___\n",
    "\n",
    "<a href='https://mainacademy.ua/'> <img src='https://mainacademy.ua/wp-content/uploads/2019/03/logo-main.png' alt = 'Хмм, щось з інтернетом'/></a>\n",
    "___\n",
    "\n",
    "# Module 2: Basic Python"
   ]
  },
  {
   "cell_type": "markdown",
   "metadata": {},
   "source": [
    "## Lab work 2.1\n",
    "\n"
   ]
  },
  {
   "cell_type": "markdown",
   "metadata": {},
   "source": [
    "#### Мета: \n",
    "\n",
    "* навчитися працювати із основними типами та структурами даних в Python;\n",
    "* ознайомитися із базовими алгоритмами;"
   ]
  },
  {
   "cell_type": "markdown",
   "metadata": {},
   "source": [
    "#### Завдання 1"
   ]
  },
  {
   "cell_type": "markdown",
   "metadata": {},
   "source": [
    "Обчислити площу трикутника, коли відома сторона та проведена висота до неї"
   ]
  },
  {
   "cell_type": "code",
   "execution_count": 1,
   "metadata": {},
   "outputs": [
    {
     "name": "stdout",
     "output_type": "stream",
     "text": [
      "Введіть довжину сторони: 5\n",
      "Введіть довжину висоти: 10\n",
      "\n",
      "Площа трикутника зі стороною 5 та висотою 10 дорівнює 25.0\n"
     ]
    }
   ],
   "source": [
    "a = int(input('Введіть довжину сторони: '))\n",
    "h = int(input('Введіть довжину висоти: '))\n",
    "\n",
    "square = 0.5 * a * h\n",
    "print(f\"\\nПлоща трикутника зі стороною {a} та висотою {h} дорівнює {square}\")"
   ]
  },
  {
   "cell_type": "markdown",
   "metadata": {},
   "source": [
    "#### Завдання 2"
   ]
  },
  {
   "cell_type": "markdown",
   "metadata": {},
   "source": [
    "Дано трицифрове число. Виведіть окремо кожну цифру числа та суми цифр число\n",
    "\n",
    "Реалізуйте завдання двома способами (використовуючи стрічки та оператори `%`, `//`)"
   ]
  },
  {
   "cell_type": "code",
   "execution_count": 2,
   "metadata": {},
   "outputs": [
    {
     "name": "stdout",
     "output_type": "stream",
     "text": [
      "123\n",
      "1\n",
      "2\n",
      "3\n",
      "Сума чисел дорівнює 6\n"
     ]
    }
   ],
   "source": [
    "N = input()\n",
    "\n",
    "sum_num = 0\n",
    "for number in N:\n",
    "    print(number)\n",
    "    sum_num += int(number)\n",
    "    \n",
    "print(f'Сума чисел дорівнює {sum_num}')\n",
    "\n"
   ]
  },
  {
   "cell_type": "code",
   "execution_count": 3,
   "metadata": {},
   "outputs": [
    {
     "name": "stdout",
     "output_type": "stream",
     "text": [
      "123\n",
      "1   2   3\n",
      "Сума чисел дорівнює 6\n"
     ]
    }
   ],
   "source": [
    "N = int(input())\n",
    "\n",
    "def sum_of_numbers(num):\n",
    "    first_digit = num // 100\n",
    "    middle_digit = num // 10 % 10\n",
    "    last_digit = num % 10\n",
    "    sum_num = first_digit + middle_digit + last_digit\n",
    "    print(f'{first_digit}   {middle_digit}   {last_digit}')\n",
    "    print(f'Сума чисел дорівнює {sum_num}')\n",
    "\n",
    "\n",
    "sum_of_numbers(N)"
   ]
  },
  {
   "cell_type": "markdown",
   "metadata": {},
   "source": [
    "#### Завдання 3"
   ]
  },
  {
   "cell_type": "markdown",
   "metadata": {},
   "source": [
    "Дано речення (стрічка). \n",
    "* Розбийте речення по словах і помістіть їх у список. \n",
    "* Виведіть кількість слів у речені.\n",
    "* Утворіть нове речення, що складається з першого та останнього слова із початкового речення."
   ]
  },
  {
   "cell_type": "code",
   "execution_count": 4,
   "metadata": {},
   "outputs": [],
   "source": [
    "sentence = 'My favourite tutor in academy is Ihor'"
   ]
  },
  {
   "cell_type": "code",
   "execution_count": 5,
   "metadata": {},
   "outputs": [
    {
     "data": {
      "text/plain": [
       "7"
      ]
     },
     "execution_count": 5,
     "metadata": {},
     "output_type": "execute_result"
    }
   ],
   "source": [
    "sentence_list = sentence.split()\n",
    "len(sentence_list)"
   ]
  },
  {
   "cell_type": "code",
   "execution_count": 6,
   "metadata": {},
   "outputs": [],
   "source": [
    "new_sentence = sentence_list[0] + ' ' + sentence_list[-1]"
   ]
  },
  {
   "cell_type": "code",
   "execution_count": 7,
   "metadata": {},
   "outputs": [
    {
     "data": {
      "text/plain": [
       "'My Ihor'"
      ]
     },
     "execution_count": 7,
     "metadata": {},
     "output_type": "execute_result"
    }
   ],
   "source": [
    "new_sentence"
   ]
  },
  {
   "cell_type": "markdown",
   "metadata": {},
   "source": [
    "#### Завдання 4"
   ]
  },
  {
   "cell_type": "markdown",
   "metadata": {},
   "source": [
    "Перевірте, чи справджується формула: $$ sin^2x + cos^2x = 1$$\n",
    "\n",
    "Напишіть код, що реалізує цю формулу. Нагадую, що тригонометричні функції приймають аргументи в радіанній мірі"
   ]
  },
  {
   "cell_type": "code",
   "execution_count": 8,
   "metadata": {},
   "outputs": [
    {
     "name": "stdout",
     "output_type": "stream",
     "text": [
      "30\n",
      "Формула справджується\n"
     ]
    }
   ],
   "source": [
    "import math\n",
    "x = int(input())\n",
    "x_degrees = math.degrees(x)\n",
    "\n",
    "formula = math.sin(x_degrees) ** 2 + math.cos(x_degrees)** 2\n",
    "\n",
    "if formula == 1:\n",
    "    print('Формула справджується')"
   ]
  },
  {
   "cell_type": "markdown",
   "metadata": {},
   "source": [
    "# Завдання 5"
   ]
  },
  {
   "cell_type": "markdown",
   "metadata": {},
   "source": [
    "Напишіть програму для обчислення коренів квадратного рівняння.\n",
    "\n",
    "Нагадую, що `n`-го степеня має `n` коренів. (Корені можуть бути комплексні)"
   ]
  },
  {
   "cell_type": "code",
   "execution_count": 9,
   "metadata": {},
   "outputs": [
    {
     "name": "stdout",
     "output_type": "stream",
     "text": [
      "Введіть а: 1\n",
      "Введіть b: -5\n",
      "Введіть c: 4\n",
      "\n",
      "Корені квадратного рівняння: \n",
      "x1 = 4.0 \n",
      "x2 = 1.0\n"
     ]
    }
   ],
   "source": [
    "import cmath\n",
    "a = int(input('Введіть а: '))\n",
    "b = int(input('Введіть b: '))\n",
    "c = int(input('Введіть c: '))\n",
    "\n",
    "d = b ** 2 - (4 * a * c)\n",
    "d_sqrt = math.sqrt(d)\n",
    "\n",
    "if d > 0:\n",
    "    x1 = (-b + d_sqrt) / (2 * a)\n",
    "    x2 = (-b - d_sqrt) / (2 * a)\n",
    "elif d == 0:\n",
    "    x1 = x2 = (-b + d_sqrt) / (2 * a)\n",
    "# для від'ємних значень дискримінанту використовуємо комплексні чила\n",
    "else:\n",
    "    x1 = (-b + (cmath.sqrt(d))) / (2 * a)\n",
    "    x2 = (-b - (cmath.sqrt(d))) / (2 * a)\n",
    "\n",
    "    \n",
    "print(f'\\nКорені квадратного рівняння: \\nx1 = {x1} \\nx2 = {x2}')\n",
    "\n"
   ]
  },
  {
   "cell_type": "markdown",
   "metadata": {},
   "source": [
    "#### Завдання 6"
   ]
  },
  {
   "cell_type": "markdown",
   "metadata": {},
   "source": [
    "Напишіть програму, що виводить речення: <i>\"Діаметр планети `Planet` дорівнює` Diament`\"</i>, \n",
    "\n",
    "де `Planet` та `Diament` вводить користувач"
   ]
  },
  {
   "cell_type": "code",
   "execution_count": 11,
   "metadata": {},
   "outputs": [
    {
     "name": "stdout",
     "output_type": "stream",
     "text": [
      "Введіть назву планети: Марс\n",
      "Введіть діаметр планети: 6777\n",
      "\n",
      "Діаметр планети Марс дорівнює 6777\n"
     ]
    }
   ],
   "source": [
    "planet = input('Введіть назву планети: ')\n",
    "diament = int(input('Введіть діаметр планети: '))\n",
    "\n",
    "print(f\"\\nДіаметр планети {planet} дорівнює {diament}\")"
   ]
  }
 ],
 "metadata": {
  "kernelspec": {
   "display_name": "Python 3",
   "language": "python",
   "name": "python3"
  },
  "language_info": {
   "codemirror_mode": {
    "name": "ipython",
    "version": 3
   },
   "file_extension": ".py",
   "mimetype": "text/x-python",
   "name": "python",
   "nbconvert_exporter": "python",
   "pygments_lexer": "ipython3",
   "version": "3.8.8"
  }
 },
 "nbformat": 4,
 "nbformat_minor": 2
}
