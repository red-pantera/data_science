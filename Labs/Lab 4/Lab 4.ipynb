{
 "cells": [
  {
   "cell_type": "markdown",
   "metadata": {},
   "source": [
    "___\n",
    "\n",
    "<a href='https://mainacademy.ua/'> <img src='https://mainacademy.ua/wp-content/uploads/2019/03/logo-main.png' alt = 'Хмм, щось з інтернетом'/></a>\n",
    "___\n",
    "\n",
    "# Module 4: Work with data professionally!"
   ]
  },
  {
   "cell_type": "markdown",
   "metadata": {},
   "source": [
    "## Lab work 4\n",
    "\n"
   ]
  },
  {
   "cell_type": "markdown",
   "metadata": {},
   "source": [
    "#### Мета: \n",
    "\n",
    "* навчитися обробляти дані\n",
    "* \"парсити\" сайти"
   ]
  },
  {
   "cell_type": "markdown",
   "metadata": {},
   "source": [
    "### Завдання 1:"
   ]
  },
  {
   "cell_type": "markdown",
   "metadata": {},
   "source": [
    "#### Ознайомитися із API Національного банку \n",
    "https://old.bank.gov.ua/control/uk/publish/article?art_id=38441973&cat_id=38459171#exchange\n",
    "\n"
   ]
  },
  {
   "cell_type": "markdown",
   "metadata": {},
   "source": [
    "1. Підключитися до API.\n"
   ]
  },
  {
   "cell_type": "code",
   "execution_count": 3,
   "metadata": {},
   "outputs": [
    {
     "data": {
      "text/plain": [
       "<Response [200]>"
      ]
     },
     "execution_count": 3,
     "metadata": {},
     "output_type": "execute_result"
    }
   ],
   "source": [
    "import requests\n",
    "site = 'https://bank.gov.ua/NBUStatService/v1/statdirectory/exchange?valcode=USD&date=20210811&json'\n",
    "\n",
    "r = requests.get(site)\n",
    "r"
   ]
  },
  {
   "cell_type": "markdown",
   "metadata": {},
   "source": [
    "2. Отримати курс долара за останній рік."
   ]
  },
  {
   "cell_type": "code",
   "execution_count": 4,
   "metadata": {},
   "outputs": [
    {
     "name": "stdout",
     "output_type": "stream",
     "text": [
      "Середній курс долара за останній рік  27.814918306010927\n"
     ]
    }
   ],
   "source": [
    "from statistics import mean\n",
    "from datetime import date, datetime, timedelta\n",
    "\n",
    "def connect_to_api(date):\n",
    "    param = {'date': date.strftime('%Y%m%d'), 'valcode': 'USD' }\n",
    "    r = requests.get('https://bank.gov.ua/NBUStatService/v1/statdirectory/exchange?json', params=param)\n",
    "    if r.status_code == 200:\n",
    "        return r.json()[0]['rate']\n",
    "    return None\n",
    "\n",
    "\n",
    "def get_dollar_year():\n",
    "    DB = {}\n",
    "    start_date = date.today() - timedelta(days=365) \n",
    "    current_date = date.today()\n",
    "    while start_date <= current_date:\n",
    "        rate = connect_to_api(start_date)\n",
    "        DB[start_date] = rate\n",
    "        start_date += timedelta(days=1)\n",
    "    return DB\n",
    "\n",
    "db = get_dollar_year()\n",
    "# print(db)\n",
    "db_mean = mean(list(db.values()))\n",
    "print(f'Середній курс долара за останній рік  {db_mean}')"
   ]
  },
  {
   "cell_type": "markdown",
   "metadata": {},
   "source": [
    "3. Вивести середнє значення та відхилення курсу за кожний місяць."
   ]
  },
  {
   "cell_type": "code",
   "execution_count": 5,
   "metadata": {},
   "outputs": [],
   "source": [
    "year_ago = date.today() - timedelta(days=365) \n",
    "\n",
    "rate_list = [(\n",
    "    connect_to_api(year_ago + timedelta(days=i)), # курс долара\n",
    "    (year_ago + timedelta(days=i)).year * 100 +   # дата (рік місяць)\n",
    "    (year_ago + timedelta(days=i)).month   \n",
    "    )\n",
    "    for i in range (365)]\n"
   ]
  },
  {
   "cell_type": "code",
   "execution_count": 6,
   "metadata": {},
   "outputs": [],
   "source": [
    "# унікальні значення дати (рік місяць)\n",
    "year_month = set(map(lambda i: i[1], rate_list))"
   ]
  },
  {
   "cell_type": "code",
   "execution_count": 7,
   "metadata": {},
   "outputs": [
    {
     "data": {
      "text/plain": [
       "[('08', '2020', 27.412911764705882, 0.07505146469550882),\n",
       " ('09', '2020', 27.97671666666667, 0.2409137677795668),\n",
       " ('10', '2020', 28.324951612903227, 0.055517948274816174),\n",
       " ('11', '2020', 28.310153333333332, 0.1508870820853458),\n",
       " ('12', '2020', 28.16971935483871, 0.24976838393380232),\n",
       " ('01', '2021', 28.219770967741937, 0.1231532113359842),\n",
       " ('02', '2021', 27.884660714285715, 0.10631085913415092),\n",
       " ('03', '2021', 27.79555806451613, 0.11551466219833594),\n",
       " ('04', '2021', 27.930006666666667, 0.09083219820022562),\n",
       " ('05', '2021', 27.602848387096774, 0.12045124565833751),\n",
       " ('06', '2021', 27.239873333333332, 0.15608484857289326),\n",
       " ('07', '2021', 27.214548387096773, 0.1558277165568175),\n",
       " ('08', '2021', 26.846407142857142, 0.06610510819649482)]"
      ]
     },
     "execution_count": 7,
     "metadata": {},
     "output_type": "execute_result"
    }
   ],
   "source": [
    "from statistics import mean, stdev\n",
    "\n",
    "res = [] \n",
    "for j in year_month:\n",
    "    month = str(j)[-2:]\n",
    "    year = str(j)[:4]\n",
    "    data = list(i[0] for i in rate_list if i[1]==j)\n",
    "    mean_value = mean(data)\n",
    "    std_dev = stdev(data)\n",
    "    res.append((month, year, mean_value, std_dev))\n",
    "    \n",
    "res = sorted(res, key = lambda k: (k[1],k[0]))\n",
    "res"
   ]
  },
  {
   "cell_type": "markdown",
   "metadata": {},
   "source": [
    "4. Дану інформацію записати у файл за допомогою pickle."
   ]
  },
  {
   "cell_type": "code",
   "execution_count": 8,
   "metadata": {},
   "outputs": [],
   "source": [
    "# записати res у файл\n",
    "import pickle\n",
    "\n",
    "f = open('year_rate_by_month.pickle', 'wb')\n",
    "pickle.dump(res, f)\n",
    "\n",
    "f.close()"
   ]
  },
  {
   "cell_type": "code",
   "execution_count": 9,
   "metadata": {},
   "outputs": [],
   "source": [
    "# завантажити дані з файлу \n",
    "import pickle\n",
    "\n",
    "f = open('year_rate_by_month.pickle', 'rb')\n",
    "new_res = pickle.load(f)\n",
    "f.close()"
   ]
  },
  {
   "cell_type": "code",
   "execution_count": 10,
   "metadata": {},
   "outputs": [
    {
     "data": {
      "text/plain": [
       "[('08', '2020', 27.412911764705882, 0.07505146469550882),\n",
       " ('09', '2020', 27.97671666666667, 0.2409137677795668),\n",
       " ('10', '2020', 28.324951612903227, 0.055517948274816174),\n",
       " ('11', '2020', 28.310153333333332, 0.1508870820853458),\n",
       " ('12', '2020', 28.16971935483871, 0.24976838393380232),\n",
       " ('01', '2021', 28.219770967741937, 0.1231532113359842),\n",
       " ('02', '2021', 27.884660714285715, 0.10631085913415092),\n",
       " ('03', '2021', 27.79555806451613, 0.11551466219833594),\n",
       " ('04', '2021', 27.930006666666667, 0.09083219820022562),\n",
       " ('05', '2021', 27.602848387096774, 0.12045124565833751),\n",
       " ('06', '2021', 27.239873333333332, 0.15608484857289326),\n",
       " ('07', '2021', 27.214548387096773, 0.1558277165568175),\n",
       " ('08', '2021', 26.846407142857142, 0.06610510819649482)]"
      ]
     },
     "execution_count": 10,
     "metadata": {},
     "output_type": "execute_result"
    }
   ],
   "source": [
    "res"
   ]
  },
  {
   "cell_type": "markdown",
   "metadata": {},
   "source": [
    "### Завдання 2:"
   ]
  },
  {
   "cell_type": "markdown",
   "metadata": {},
   "source": [
    "Потрібно проаналізувати всі товари на сайті: \n",
    "https://smallpacking.agrosem.ua/shop/"
   ]
  },
  {
   "cell_type": "markdown",
   "metadata": {},
   "source": [
    "Створіть базу даних, що містить таблицю із такими стовбцями: \n",
    "    - артикул товару\n",
    "    - найменування\n",
    "    - ціна \n",
    "    - вага"
   ]
  },
  {
   "cell_type": "code",
   "execution_count": 11,
   "metadata": {},
   "outputs": [
    {
     "name": "stdout",
     "output_type": "stream",
     "text": [
      "Next page is not found\n"
     ]
    }
   ],
   "source": [
    "import requests\n",
    "import sqlite3\n",
    "from bs4 import BeautifulSoup\n",
    "\n",
    "HEADERS = {\n",
    "            'User-Agent': 'Mozilla/5.0 (Windows NT 6.1; WOW64; rv:49.0) Gecko/20100101 Firefox/49.0',\n",
    "            'Accept': 'text/html,application/xhtml+xml,application/xml;q=0.9,*/*;q=0.8',\n",
    "            'Accept-Language': 'ua-UA,en;q=0.5',\n",
    "            'Accept-Encoding': 'gzip, deflate',\n",
    "            'DNT': '1',\n",
    "            'Connection': 'keep-alive',\n",
    "            'Upgrade-Insecure-Requests': '1'\n",
    "        }\n",
    "\n",
    "site = 'https://smallpacking.agrosem.ua/shop/'\n",
    "\n",
    "def find_page_links(site):\n",
    "    \"\"\"Функція, яка знаходить всі посилання на можливі сторінки сайту\"\"\"\n",
    "    pages_links = [site]\n",
    "    while True:\n",
    "        r = requests.get(site, headers=HEADERS)\n",
    "        soup = BeautifulSoup(r.text, 'lxml')\n",
    "        try:\n",
    "            next_page = soup.find('a', class_='next page-numbers').get('href')\n",
    "            pages_links.append(next_page)\n",
    "            site = next_page\n",
    "        except:\n",
    "            print('Next page is not found')\n",
    "            break\n",
    "    return pages_links\n",
    "\n",
    "def get_all_product_links(site, db):\n",
    "    \"\"\"Функція, яка знаходить всі посилання товарів на site\"\"\"\n",
    "    r = requests.get(site, headers=HEADERS)\n",
    "    soup = BeautifulSoup(r.text, 'lxml')\n",
    "    \n",
    "    for teg in soup.findAll('div', class_='product-from-category-container'):\n",
    "        link = teg.a.get('href').strip('/')\n",
    "        db.append(link)\n",
    "\n",
    "def get_info(site, product_list):\n",
    "    \"\"\"Функція, яка добавляє записи в словник \n",
    "    товару (sku, назва товару, ціна, тип упаковки)\"\"\"\n",
    "    r = requests.get(site, headers=HEADERS)\n",
    "    soup = BeautifulSoup(r.text, 'lxml')  \n",
    "\n",
    "    sku = soup.find('span',itemprop='productID').text[5:]\n",
    "    name = soup.find('div', class_=\"atributes-description\").h2.text\n",
    "    price = soup.find('div', class_='price-container').span.text\n",
    "    price = int(price.replace(\" \", \"\")[:-3])\n",
    "    pack_type = soup.find('span', class_=\"type-packaging-name\").text\n",
    "    temp = [sku, name, price, pack_type]\n",
    "    product_list.append(temp)     \n",
    "    \n",
    "\n",
    "def create_and_fill_database(name, list_values):\n",
    "    # Створити базу даних\n",
    "    conn = sqlite3.connect(name + '.sqlite3')\n",
    "    curs = conn.cursor()\n",
    "    curs.execute(\"CREATE TABLE Product (sku TEXT, name TEXT, price INTEGER, pack_type TEXT)\")\n",
    "\n",
    "    # Додати дані в таблицю\n",
    "    for i in range(len(list_values)):\n",
    "        curs.execute(\"INSERT INTO Product (sku, name, price, pack_type)\"\n",
    "                     \" VALUES (?, ?, ?, ?)\",\n",
    "                     (list_values[i][0], list_values[i][1], list_values[i][2], list_values[i][3]))\n",
    "    conn.commit()\n",
    "    conn.close()\n",
    "\n",
    "if __name__ == '__main__':\n",
    "    all_product_links = []\n",
    "    product_list = []\n",
    "\n",
    "    pages_links = find_page_links(site)\n",
    "\n",
    "    for page in pages_links:\n",
    "        get_all_product_links(page, all_product_links)\n",
    "\n",
    "    for link in all_product_links:\n",
    "        get_info(link, product_list)\n",
    "        \n",
    "    create_and_fill_database('products',product_list)\n",
    "    "
   ]
  },
  {
   "cell_type": "markdown",
   "metadata": {},
   "source": [
    "Простий запит на вивід усіх даних з таблиці Product"
   ]
  },
  {
   "cell_type": "code",
   "execution_count": 12,
   "metadata": {},
   "outputs": [
    {
     "name": "stdout",
     "output_type": "stream",
     "text": [
      "28164 Ferticare Hydro 6-14-30 + micro 1900 Коробка\n",
      "66353 Ferticare Kombi 14-11-25 + micro 1700 Коробка\n",
      "39566 MagPlon K (нітрат калію) 1200 Коробка\n",
      "69156 Pulan 34.4 7500 Коробка\n",
      "74266 Saletrosan®26 4400 Коробка\n",
      "26252 Saletrosan®30 6000 Коробка\n",
      "67325 Saletrzak 27 macro 4300 Коробка\n",
      "76913 Siarczan AS 21 Macro 4700 Коробка\n",
      "51667 Yara Liva Кальциніт 550 Коробка\n",
      "95975 Yara Liva Нітрабор 550 Коробка\n",
      "93119 YaraBela Сульфан 9500 Коробка\n",
      "35951 YaraIrix 23000 Коробка\n",
      "21521 YaraMila Complex 12-11-18 850 Коробка\n",
      "31357 YaraMila Cropcare 11-11-21 850 Коробка\n",
      "47993 YaraMila NP 20-20 +9,0SO3 12600 Коробка\n",
      "89147 YaraMila NPK 12-24-12 14700 Коробка\n",
      "84721 YaraMila NPK 16-16-16 12200 Коробка\n",
      "63243 YaraMila NPK 16-27-7 15600 Коробка\n",
      "24963 YaraMila NPK 18-11-13 11300 Коробка\n",
      "24344 YaraMila NPK 7-20-28 15600 Коробка\n",
      "64776 YaraMila NPK 8-24-24 15800 Коробка\n",
      "66872 YaraMila NPK 9-12-25 + 2MgO + 6,5SO3 + micro 12800 Коробка\n",
      "19571 YaraTera SOP (сульфат калію) 1100 Коробка\n",
      "16332 YaraVita Rexolin ABC (комплекс мікроелементів) 2200 Коробка\n",
      "77348 YaraVita Rexolin D12 (хелат заліза) 2100 Коробка\n",
      "76429 YaraVita Бортрак 1500 Коробка\n",
      "13111 YaraVita Брасітрел Про 2300 Коробка\n",
      "62796 YaraVita Грамітрел 2400 Коробка\n",
      "79615 YaraVita КомбіФос 1900 Коробка\n",
      "47133 YaraVita Манкоцин 1600 Коробка\n",
      "37314 YaraVita Мантрак Про 1800 Коробка\n",
      "22322 YaraVita Меїз Буст 2700 Коробка\n",
      "42617 YaraVita Молітрак 7100 Коробка\n",
      "94157 YaraVita Тепросин NP+Zn 3200 Коробка\n",
      "78528 YaraVita Тіотрак 1300 Коробка\n",
      "97554 YaraVita Фосамко Біо 1200 Коробка\n",
      "93579 YaraVita Цинтрак 1900 Коробка\n",
      "15119 Альваро КВС, насіння озимого ріпаку, 2019 р. врожаю 5000 Мішок\n",
      "78664 Альваро КВС, насіння озимого ріпаку, 2020 р. врожаю 5700 Мішок\n",
      "92478 Гибрікок KWS, 2019 р. врожаю 4500 Мішок\n",
      "45875 Гибрікок KWS, 2020 р. врожаю 5500 Коробка\n",
      "797756 Добриво для винограду 155 Коробка\n",
      "4165215 Добриво для вічнозелених дерев та кущів 1149 Відро\n",
      "1955 Добриво для вічнозелених дерев та кущів 173 Коробка\n",
      "4738184 Добриво для вічнозелених дерев та кущів 350 Мішок\n",
      "5218 Добриво для вічнозелених дерев та кущів 999 Відро\n",
      "726319 Добриво для вічнозелених дерев та кущів 415 Мішок\n",
      "8362626 Добриво для вічнозелених дерев та кущів 155 Коробка\n",
      "9354141 Добриво для газону 415 Мішок\n",
      "455799 Добриво для газону 173 Коробка\n",
      "7143174 Добриво для газону 350 Мішок\n",
      "16762 Добриво для газону 1149 Відро\n",
      "789868 Добриво для газону 155 Коробка\n",
      "375738 Добриво для газону 999 Відро\n",
      "32237 Добриво для декоративних листових 415 Мішок\n",
      "991645 Добриво для декоративних листових 173 Коробка\n",
      "78747 Добриво для декоративних листових 375 Мішок\n",
      "33486 Добриво для декоративних листових 155 Коробка\n",
      "198742 Добриво для овочів 350 Мішок\n",
      "88255 Добриво для овочів 155 Коробка\n",
      "3593 Добриво для полуниці 155 Коробка\n",
      "68183 Добриво для розсади 173 Коробка\n",
      "5656841 Добриво для тепличних овочів 415 Мішок\n",
      "51561 Добриво для тепличних овочів 125 Коробка\n",
      "2217672 Добриво для троянд 155 Коробка\n",
      "439226 Добриво для фруктових та горіхових дерев 375 Мішок\n",
      "3177412 Добриво для фруктових та горіхових дерев 173 Коробка\n",
      "1297 Добриво для ягідних чагарників 350 Мішок\n",
      "91897 Добриво для ягідних чагарників 155 Коробка\n",
      "61169 Добриво універсальне грунтове 173 Коробка\n",
      "6651824 Добриво універсальне грунтове 415 Мішок\n",
      "5227876 Добриво універсальне грунтове 950 Відро\n",
      "682645 Добриво універсальне грунтове 415 Мішок\n",
      "7435 Добриво універсальне грунтове 173 Коробка\n",
      "17477 Добриво універсальне грунтове 1149 Відро\n",
      "81892 Етерно КВС, насіння озимого жита 2200 Мішок\n",
      "91815 Етерно КВС, насіння озимого жита 53000 Коробка\n",
      "31292 Етерно КВС, насіння озимого жита 50000 Коробка\n",
      "42579 Етерно КВС, насіння озимого жита, протруєне 56000 Мішок\n",
      "68438 Кrista MAG (нітрат магнію) 800 Коробка\n",
      "66368 Кrista К (нітрат калію) 1200 Коробка\n",
      "34254 Кrista МАР (моноамоній фосфат) 1500 Коробка\n",
      "34559 Кrista МКР (монокалій фосфат) 1700 Коробка\n",
      "56714 КВС Боно, насіння озимого жита 49000 Мішок\n",
      "63683 КВС Магніфіко, насіння озимого жита на силос 1900 Мішок\n",
      "61723 КВС Магніфіко, насіння озимого жита на силос 46000 Мішок\n",
      "12789 КВС Пропауер, насіння озимого жита 55000 Мішок\n",
      "62997 КВС Тайо, насіння озимого жита 55000 Мішок\n",
      "27946 КВС Феррі, озимий ріпак, 2020 р. врожаю 6000 Мішок\n",
      "38994 МАРК КВС, 2019 р. врожаю 5000 Мішок\n",
      "99753 МАРК КВС, 2020 р. врожаю 5700 Мішок\n",
      "87931 Озимий ріпак Фактор КВС, 2019 р. врожаю, ексклюзив «Агросем» 5200 Коробка\n",
      "38134 Озимий ріпак Фактор КВС, 2020 р. врожаю, ексклюзив «Агросем» 5800 Мішок\n",
      "93768 ПX113, озимий ріпак 5800 Мішок\n",
      "32979 ПX128, озимий ріпак 7000 Мішок\n",
      "27795 ПР44Д06, озимий ріпак 6400 Мішок\n",
      "29272 ПР46В21, озимий ріпак 5800 Мішок\n",
      "67125 ПТ200КЛ, озимий ріпак 7000 Мішок\n",
      "41695 ПТ234, озимий ріпак 5800 Коробка\n",
      "84913 ПТ248, озимий ріпак 6600 Мішок\n",
      "94498 ПТ264, озимий ріпак 7000 Коробка\n",
      "45838 ПТ269, озимий ріпак 6700 Коробка\n",
      "66139 ПТ271, озимий ріпак 7000 Мішок\n",
      "87933 ПТ275, озимий ріпак 7000 Мішок\n",
      "14888 ПТ279КЛ, озимий ріпак 7400 Мішок\n",
      "87376 ПХ125КЛ, озимий ріпак 7000 Мішок\n",
      "14592 ПХ131, озимий ріпак 7000 Мішок\n",
      "65157 Сульфат магнію (семиводневий) 400 Коробка\n",
      "75575 Сульфат магнію Яра Krista MgS 500 Коробка\n",
      "76265 Сульфат магнію гранульований 12000 Коробка\n",
      "33632 Умберто КВС, насіння озимого ріпаку, 2019 р. врожаю 5200 Мішок\n",
      "88369 Умберто КВС, насіння озимого ріпаку, 2020 р. врожаю 5800 Коробка\n",
      "55781 Яра (Folicare) NPK 10-5-40+micro 1800 Коробка\n",
      "65565 Яра (Folicare) NPK 12-0-38 1900 Коробка\n",
      "88381 Яра (Folicare) NPK 12-46-8+micro 2100 Коробка\n",
      "91621 Яра (Folicare) NPK 18-18-18+micro 1800 Коробка\n",
      "68487 Яра (Folicare) NPK 22-5-22+micro 1800 Коробка\n",
      "35486 Яра Ferticare Tomato 1800 Коробка\n",
      "71533 Яра Ferticare Овочі 1800 Коробка\n"
     ]
    }
   ],
   "source": [
    "conn = sqlite3.connect('products.sqlite3')\n",
    "curs = conn.cursor()\n",
    "curs.execute('SELECT * FROM Product ORDER BY name')\n",
    "rows = curs.fetchall()\n",
    " \n",
    "for row in rows:\n",
    "    print(\"{0} {1} {2} {3}\".format(row[0], row[1], row[2], row[3]))\n",
    "conn.close()\n"
   ]
  },
  {
   "cell_type": "markdown",
   "metadata": {},
   "source": [
    "### Завдання 3: "
   ]
  },
  {
   "cell_type": "markdown",
   "metadata": {},
   "source": [
    "Ознайомтеся із роботою SQLite та відповідним модулем у Python.\n",
    "Завантажте базу даних для виконання лабораторної роботи.\n",
    "Підключіться до завантаженої бази SQLite."
   ]
  },
  {
   "cell_type": "markdown",
   "metadata": {},
   "source": [
    "1. Виведіть інформацію про дану базу."
   ]
  },
  {
   "cell_type": "code",
   "execution_count": 13,
   "metadata": {},
   "outputs": [
    {
     "data": {
      "text/plain": [
       "'2.6.0'"
      ]
     },
     "execution_count": 13,
     "metadata": {},
     "output_type": "execute_result"
    }
   ],
   "source": [
    "sqlite3.version"
   ]
  },
  {
   "cell_type": "code",
   "execution_count": 14,
   "metadata": {},
   "outputs": [
    {
     "data": {
      "text/plain": [
       "'3.35.4'"
      ]
     },
     "execution_count": 14,
     "metadata": {},
     "output_type": "execute_result"
    }
   ],
   "source": [
    "sqlite3.sqlite_version"
   ]
  },
  {
   "cell_type": "markdown",
   "metadata": {},
   "source": [
    "2. Виведіть перелік всіх таблиць."
   ]
  },
  {
   "cell_type": "code",
   "execution_count": 30,
   "metadata": {},
   "outputs": [
    {
     "name": "stdout",
     "output_type": "stream",
     "text": [
      "['Customers', 'OrderItems', 'Orders', 'Products', 'Vendors']\n"
     ]
    }
   ],
   "source": [
    "query = \"\"\"\n",
    "        SELECT name \n",
    "        FROM sqlite_master \n",
    "        WHERE type='table' \n",
    "        ORDER BY Name\n",
    "        \"\"\"\n",
    "con = sqlite3.connect('tysql.sqlite')\n",
    "cursor = con.cursor()\n",
    "cursor.execute(query)\n",
    "tables = list(map(lambda t: t[0], cursor.fetchall()))\n",
    "print(tables)"
   ]
  },
  {
   "cell_type": "markdown",
   "metadata": {},
   "source": [
    "3. Список всіх cust_id з таблиці Customers table."
   ]
  },
  {
   "cell_type": "code",
   "execution_count": 31,
   "metadata": {},
   "outputs": [
    {
     "name": "stdout",
     "output_type": "stream",
     "text": [
      "[('1000000001',), ('1000000002',), ('1000000003',), ('1000000004',), ('1000000005',)]\n"
     ]
    }
   ],
   "source": [
    "query = \"\"\"\n",
    "        SELECT cust_id \n",
    "        FROM Customers\n",
    "        \"\"\"\n",
    "cursor.execute(query)\n",
    "print(cursor.fetchall())"
   ]
  },
  {
   "cell_type": "markdown",
   "metadata": {},
   "source": [
    "4. Всю таблицю Customers table"
   ]
  },
  {
   "cell_type": "code",
   "execution_count": 32,
   "metadata": {},
   "outputs": [
    {
     "name": "stdout",
     "output_type": "stream",
     "text": [
      "('1000000001', 'Village Toys', '200 Maple Lane', 'Detroit', 'MI', '44444', 'USA', 'John Smith', 'sales@villagetoys.com') \n",
      "\n",
      "('1000000002', 'Kids Place', '333 South Lake Drive', 'Columbus', 'OH', '43333', 'USA', 'Michelle Green', None) \n",
      "\n",
      "('1000000003', 'Fun4All', '1 Sunny Place', 'Muncie', 'IN', '42222', 'USA', 'Jim Jones', 'jjones@fun4all.com') \n",
      "\n",
      "('1000000004', 'Fun4All', '829 Riverside Drive', 'Phoenix', 'AZ', '88888', 'USA', 'Denise L. Stephens', 'dstephens@fun4all.com') \n",
      "\n",
      "('1000000005', 'The Toy Store', '4545 53rd Street', 'Chicago', 'IL', '54545', 'USA', 'Kim Howard', None) \n",
      "\n"
     ]
    }
   ],
   "source": [
    "query = \"\"\"\n",
    "        SELECT * \n",
    "        FROM Customers\n",
    "        \"\"\"\n",
    "cursor.execute(query)\n",
    "result = cursor.fetchall()\n",
    "for row in result:\n",
    "    print(row, '\\n')"
   ]
  },
  {
   "cell_type": "markdown",
   "metadata": {},
   "source": [
    "5. Список клієнтів (cust_names) відсортованих від Z до A"
   ]
  },
  {
   "cell_type": "code",
   "execution_count": 33,
   "metadata": {},
   "outputs": [
    {
     "name": "stdout",
     "output_type": "stream",
     "text": [
      "('Village Toys',) \n",
      "\n",
      "('The Toy Store',) \n",
      "\n",
      "('Kids Place',) \n",
      "\n",
      "('Fun4All',) \n",
      "\n",
      "('Fun4All',) \n",
      "\n"
     ]
    }
   ],
   "source": [
    "query = \"\"\"\n",
    "        SELECT cust_name\n",
    "        FROM Customers\n",
    "        ORDER BY cust_name DESC\n",
    "        \"\"\"\n",
    "cursor.execute(query)\n",
    "result = cursor.fetchall()\n",
    "for row in result:\n",
    "    print(row, '\\n')"
   ]
  },
  {
   "cell_type": "markdown",
   "metadata": {},
   "source": [
    "6. Таблицю клієнтів та замовлень (cust_id і order_num) . Відсортуйте по клієнту і потім по даті замовлення"
   ]
  },
  {
   "cell_type": "code",
   "execution_count": 34,
   "metadata": {},
   "outputs": [
    {
     "name": "stdout",
     "output_type": "stream",
     "text": [
      "(20006, '2012-01-12', '1000000003', '1000000003', 'Fun4All', '1 Sunny Place', 'Muncie', 'IN', '42222', 'USA', 'Jim Jones', 'jjones@fun4all.com') \n",
      "\n",
      "(20007, '2012-01-30', '1000000004', '1000000004', 'Fun4All', '829 Riverside Drive', 'Phoenix', 'AZ', '88888', 'USA', 'Denise L. Stephens', 'dstephens@fun4all.com') \n",
      "\n",
      "(20008, '2012-02-03', '1000000005', '1000000005', 'The Toy Store', '4545 53rd Street', 'Chicago', 'IL', '54545', 'USA', 'Kim Howard', None) \n",
      "\n",
      "(20009, '2012-02-08', '1000000001', '1000000001', 'Village Toys', '200 Maple Lane', 'Detroit', 'MI', '44444', 'USA', 'John Smith', 'sales@villagetoys.com') \n",
      "\n",
      "(20005, '2012-05-01', '1000000001', '1000000001', 'Village Toys', '200 Maple Lane', 'Detroit', 'MI', '44444', 'USA', 'John Smith', 'sales@villagetoys.com') \n",
      "\n"
     ]
    }
   ],
   "source": [
    "query = \"\"\"\n",
    "        SELECT *\n",
    "        FROM Orders JOIN Customers ON Orders.cust_id = Customers.cust_id\n",
    "        ORDER BY  cust_name ASC, order_date \n",
    "        \"\"\"\n",
    "cursor.execute(query)\n",
    "result = cursor.fetchall()\n",
    "for row in result:\n",
    "    print(row, '\\n')"
   ]
  },
  {
   "cell_type": "markdown",
   "metadata": {},
   "source": [
    "7. Таблицю (на основі Items) з кількість та вартістю товару. Відсортуйте в порядку спадання по кількості та вартості"
   ]
  },
  {
   "cell_type": "code",
   "execution_count": 35,
   "metadata": {},
   "outputs": [
    {
     "name": "stdout",
     "output_type": "stream",
     "text": [
      "('BNBG01', 250, 2.49) \n",
      "\n",
      "('BNBG02', 250, 2.49) \n",
      "\n",
      "('BNBG03', 250, 2.49) \n",
      "\n",
      "('BR03', 100, 10.99) \n",
      "\n",
      "('BR01', 100, 5.49) \n",
      "\n",
      "('BNBG01', 100, 2.99) \n",
      "\n",
      "('BNBG02', 100, 2.99) \n",
      "\n",
      "('BNBG03', 100, 2.99) \n",
      "\n",
      "('BR03', 50, 11.49) \n",
      "\n",
      "('RGAN01', 50, 4.49) \n",
      "\n",
      "('BR01', 20, 5.99) \n",
      "\n",
      "('BR03', 10, 11.99) \n",
      "\n",
      "('BR02', 10, 8.99) \n",
      "\n",
      "('BNBG01', 10, 3.49) \n",
      "\n",
      "('BNBG02', 10, 3.49) \n",
      "\n",
      "('BNBG03', 10, 3.49) \n",
      "\n",
      "('BR03', 5, 11.99) \n",
      "\n",
      "('RGAN01', 5, 4.99) \n",
      "\n"
     ]
    }
   ],
   "source": [
    "query = \"\"\"\n",
    "        SELECT prod_id, quantity, item_price\n",
    "        FROM OrderItems\n",
    "        ORDER BY quantity DESC, item_price DESC\n",
    "        \"\"\"\n",
    "cursor.execute(query)\n",
    "result = cursor.fetchall()\n",
    "for row in result:\n",
    "    print(row, '\\n')"
   ]
  },
  {
   "cell_type": "markdown",
   "metadata": {},
   "source": [
    "8. Товар (з таблиці Products), ціна якого становить 9.49"
   ]
  },
  {
   "cell_type": "code",
   "execution_count": 36,
   "metadata": {},
   "outputs": [
    {
     "name": "stdout",
     "output_type": "stream",
     "text": [
      "('RYL01', 'FNG01', 'King doll', 9.49, '12 inch king doll with royal garments and crown') \n",
      "\n",
      "('RYL02', 'FNG01', 'Queen doll', 9.49, '12 inch queen doll with royal garments and crown') \n",
      "\n"
     ]
    }
   ],
   "source": [
    "query = \"\"\"\n",
    "        SELECT *\n",
    "        FROM Products\n",
    "        WHERE prod_price == 9.49\n",
    "        \"\"\"\n",
    "cursor.execute(query)\n",
    "result = cursor.fetchall()\n",
    "for row in result:\n",
    "    print(row, '\\n')"
   ]
  },
  {
   "cell_type": "markdown",
   "metadata": {},
   "source": [
    "9. Виведіть назву товару та ціну, яка лежить в діапазоні від  3 до 6. Відсортуйте результат в по ціні в порядку зростання"
   ]
  },
  {
   "cell_type": "code",
   "execution_count": 37,
   "metadata": {},
   "outputs": [
    {
     "name": "stdout",
     "output_type": "stream",
     "text": [
      "('Fish bean bag toy', 3.49) \n",
      "\n",
      "('Bird bean bag toy', 3.49) \n",
      "\n",
      "('Rabbit bean bag toy', 3.49) \n",
      "\n",
      "('Raggedy Ann', 4.99) \n",
      "\n",
      "('8 inch teddy bear', 5.99) \n",
      "\n"
     ]
    }
   ],
   "source": [
    "query = \"\"\"\n",
    "        SELECT prod_name, prod_price\n",
    "        FROM Products\n",
    "        WHERE prod_price BETWEEN 3 AND 6\n",
    "        ORDER BY prod_price ASC\n",
    "        \"\"\"\n",
    "cursor.execute(query)\n",
    "result = cursor.fetchall()\n",
    "for row in result:\n",
    "    print(row, '\\n')"
   ]
  },
  {
   "cell_type": "markdown",
   "metadata": {},
   "source": [
    "10. Кількість товару, що було продано"
   ]
  },
  {
   "cell_type": "code",
   "execution_count": 38,
   "metadata": {},
   "outputs": [
    {
     "name": "stdout",
     "output_type": "stream",
     "text": [
      "(1430,) \n",
      "\n"
     ]
    }
   ],
   "source": [
    "query = \"\"\"\n",
    "        SELECT SUM(quantity) as selled_products\n",
    "        FROM OrderItems\n",
    "        \"\"\"\n",
    "cursor.execute(query)\n",
    "result = cursor.fetchall()\n",
    "for row in result:\n",
    "    print(row, '\\n')"
   ]
  },
  {
   "cell_type": "markdown",
   "metadata": {},
   "source": [
    "11. Кількість найменувань товару, ціна якого більша за 4"
   ]
  },
  {
   "cell_type": "code",
   "execution_count": 39,
   "metadata": {},
   "outputs": [
    {
     "name": "stdout",
     "output_type": "stream",
     "text": [
      "('8 inch teddy bear',) \n",
      "\n",
      "('12 inch teddy bear',) \n",
      "\n",
      "('18 inch teddy bear',) \n",
      "\n",
      "('Raggedy Ann',) \n",
      "\n",
      "('King doll',) \n",
      "\n",
      "('Queen doll',) \n",
      "\n"
     ]
    }
   ],
   "source": [
    "query = \"\"\"\n",
    "        SELECT prod_name \n",
    "        FROM Products\n",
    "        WHERE prod_price > 4\n",
    "        \"\"\"\n",
    "cursor.execute(query)\n",
    "result = cursor.fetchall()\n",
    "for row in result:\n",
    "    print(row, '\\n')"
   ]
  },
  {
   "cell_type": "markdown",
   "metadata": {},
   "source": [
    "12. Розробіть алгоритм для виведення 3 найдорожчих товарів в базі"
   ]
  },
  {
   "cell_type": "code",
   "execution_count": 40,
   "metadata": {},
   "outputs": [
    {
     "name": "stdout",
     "output_type": "stream",
     "text": [
      "('18 inch teddy bear', 11.99) \n",
      "\n",
      "('King doll', 9.49) \n",
      "\n",
      "('Queen doll', 9.49) \n",
      "\n"
     ]
    }
   ],
   "source": [
    "query = \"\"\"\n",
    "        SELECT prod_name, prod_price\n",
    "        FROM Products\n",
    "        ORDER BY prod_price DESC\n",
    "        LIMIT 3\n",
    "        \"\"\"\n",
    "cursor.execute(query)\n",
    "result = cursor.fetchall()\n",
    "for row in result:\n",
    "    print(row, '\\n')"
   ]
  },
  {
   "cell_type": "markdown",
   "metadata": {},
   "source": [
    "13. Підрахуйте кількість замовлень для кожного клієнта використовуючи підзапити"
   ]
  },
  {
   "cell_type": "code",
   "execution_count": 41,
   "metadata": {},
   "outputs": [
    {
     "name": "stdout",
     "output_type": "stream",
     "text": [
      "('1000000001', 'Village Toys', 2) \n",
      "\n",
      "('1000000003', 'Fun4All', 1) \n",
      "\n",
      "('1000000004', 'Fun4All', 1) \n",
      "\n",
      "('1000000005', 'The Toy Store', 1) \n",
      "\n"
     ]
    }
   ],
   "source": [
    "query = \"\"\"\n",
    "        SELECT cust_id, cust_name, COUNT(order_num)\n",
    "        FROM (SELECT Customers.cust_id, Orders.order_num, cust_name\n",
    "              FROM Customers JOIN Orders ON Customers.cust_id=Orders.cust_id) as t\n",
    "        GROUP BY cust_id\n",
    "        \"\"\"\n",
    "cursor.execute(query)\n",
    "result = cursor.fetchall()\n",
    "for row in result:\n",
    "    print(row, '\\n')\n"
   ]
  },
  {
   "cell_type": "markdown",
   "metadata": {},
   "source": [
    "13. Підрахуйте кількість замовлень для кожного клієнта використовуючи GROUP BY"
   ]
  },
  {
   "cell_type": "code",
   "execution_count": 42,
   "metadata": {},
   "outputs": [
    {
     "name": "stdout",
     "output_type": "stream",
     "text": [
      "('1000000001', 'Village Toys', 2) \n",
      "\n",
      "('1000000003', 'Fun4All', 1) \n",
      "\n",
      "('1000000004', 'Fun4All', 1) \n",
      "\n",
      "('1000000005', 'The Toy Store', 1) \n",
      "\n"
     ]
    }
   ],
   "source": [
    "query = \"\"\"\n",
    "        SELECT Customers.cust_id, cust_name, COUNT(*) as count_orders\n",
    "        FROM Orders JOIN Customers ON Orders.cust_id = Customers.cust_id\n",
    "        GROUP BY Customers.cust_id\n",
    "        \"\"\"\n",
    "cursor.execute(query)\n",
    "result = cursor.fetchall()\n",
    "for row in result:\n",
    "    print(row, '\\n')"
   ]
  },
  {
   "cell_type": "markdown",
   "metadata": {},
   "source": [
    "14. Виведіть список клієнтів та їх замовлення (використайте JOIN)"
   ]
  },
  {
   "cell_type": "code",
   "execution_count": 43,
   "metadata": {},
   "outputs": [
    {
     "name": "stdout",
     "output_type": "stream",
     "text": [
      "('1000000001', 'Village Toys', 20005, '2012-05-01') \n",
      "\n",
      "('1000000003', 'Fun4All', 20006, '2012-01-12') \n",
      "\n",
      "('1000000004', 'Fun4All', 20007, '2012-01-30') \n",
      "\n",
      "('1000000005', 'The Toy Store', 20008, '2012-02-03') \n",
      "\n",
      "('1000000001', 'Village Toys', 20009, '2012-02-08') \n",
      "\n"
     ]
    }
   ],
   "source": [
    "query = \"\"\"\n",
    "        SELECT Customers.cust_id, cust_name, order_num, order_date\n",
    "        FROM Orders JOIN Customers ON Orders.cust_id = Customers.cust_id\n",
    "        \"\"\"\n",
    "cursor.execute(query)\n",
    "result = cursor.fetchall()\n",
    "for row in result:\n",
    "    print(row, '\\n')"
   ]
  },
  {
   "cell_type": "markdown",
   "metadata": {},
   "source": [
    "15. Зробіть два запити: список товарів, ціна яких менша 5 та список товарів, ціна який більша рівна 5. Використайте UNION для об'єднання цих запитів"
   ]
  },
  {
   "cell_type": "code",
   "execution_count": 46,
   "metadata": {},
   "outputs": [
    {
     "name": "stdout",
     "output_type": "stream",
     "text": [
      "(3.49, 'Bird bean bag toy') \n",
      "\n",
      "(3.49, 'Fish bean bag toy') \n",
      "\n",
      "(3.49, 'Rabbit bean bag toy') \n",
      "\n",
      "(4.99, 'Raggedy Ann') \n",
      "\n",
      "(5.99, '8 inch teddy bear') \n",
      "\n",
      "(8.99, '12 inch teddy bear') \n",
      "\n",
      "(9.49, 'King doll') \n",
      "\n",
      "(9.49, 'Queen doll') \n",
      "\n",
      "(11.99, '18 inch teddy bear') \n",
      "\n"
     ]
    }
   ],
   "source": [
    "query = \"\"\"\n",
    "        SELECT prod_price, prod_name\n",
    "        FROM Products\n",
    "        WHERE prod_price < 5\n",
    "        \n",
    "        UNION \n",
    "        \n",
    "        SELECT prod_price, prod_name\n",
    "        FROM Products\n",
    "        WHERE prod_price >= 5\n",
    "\n",
    "        \n",
    "        \"\"\"\n",
    "cursor.execute(query)\n",
    "result = cursor.fetchall()\n",
    "for row in result:\n",
    "    print(row, '\\n')\n",
    "con.close()"
   ]
  },
  {
   "cell_type": "markdown",
   "metadata": {},
   "source": [
    "### Завдання 4: "
   ]
  },
  {
   "cell_type": "markdown",
   "metadata": {},
   "source": [
    "Зареєструйтеся на сайті  http://www.sql-ex.ru/\n",
    "\n",
    "Виконайте завдання із блоку SELECT; з 1 по 30 завдання\n",
    "\n",
    "Код запитів вставляйте сюди\n"
   ]
  },
  {
   "cell_type": "markdown",
   "metadata": {},
   "source": [
    "**1.**\n",
    "\n",
    "```mysql\n",
    "SELECT model, speed, hd\n",
    "FROM PC\n",
    "WHERE price < 500\n",
    "```\n",
    "\n",
    "**2.**\n",
    "\n",
    "```mysql\n",
    "SELECT DISTINCT maker\n",
    "FROM Product\n",
    "WHERE type = 'Printer'\n",
    "```\n",
    "\n",
    "**3.**\n",
    "\n",
    "```mysql\n",
    "SELECT model, ram, screen\n",
    "FROM Laptop\n",
    "WHERE price > 1000\n",
    "```\n",
    "\n",
    "**4.**\n",
    "\n",
    "```mysql\n",
    "SELECT *\n",
    "FROM Printer\n",
    "WHERE color = 'y'\n",
    "```\n",
    "\n",
    "**5.**\n",
    "\n",
    "```mysql\n",
    "SELECT model, speed, hd\n",
    "FROM PC\n",
    "WHERE price < 600 AND cd IN ('12x', '24x')\n",
    "```\n",
    "\n",
    "**6.**\n",
    "\n",
    "```mysql\n",
    "SELECT DISTINCT maker, speed \n",
    "FROM Product JOIN Laptop ON Product.model = Laptop.model \n",
    "WHERE Laptop.hd >= 10 \n",
    "ORDER BY maker\n",
    "```\n",
    "\n",
    "**7.1**\n",
    "\n",
    "```mysql\n",
    "SELECT PC.model, price\n",
    "FROM Product JOIN PC ON Product.model=PC.model \n",
    "WHERE maker = 'B'\n",
    "\n",
    "UNION\n",
    "\n",
    "SELECT Laptop.model, price\n",
    "FROM Product JOIN Laptop ON Product.model=Laptop.model \n",
    "WHERE maker = 'B'\n",
    "\n",
    "UNION \n",
    "\n",
    "SELECT Printer.model, price\n",
    "FROM Product JOIN Printer ON Product.model=Printer.model \n",
    "WHERE maker = 'B'\n",
    "```\n",
    "\n",
    "**7.2**\n",
    "\n",
    "```mysql\n",
    "SELECT PC.model, price\n",
    "FROM PC \n",
    "WHERE model IN (SELECT model FROM Product WHERE maker = 'B')\n",
    "\n",
    "UNION\n",
    "\n",
    "SELECT Laptop.model, price\n",
    "FROM Laptop\n",
    "WHERE model IN (SELECT model FROM Product WHERE maker = 'B')\n",
    "\n",
    "UNION \n",
    "\n",
    "SELECT Printer.model, price\n",
    "FROM Printer\n",
    "WHERE model IN (SELECT model FROM Product WHERE maker = 'B')\n",
    "```\n",
    "\n",
    "**8.**\n",
    "\n",
    "```mysql\n",
    "SELECT maker\n",
    "FROM PRODUCT \n",
    "WHERE type = 'PC' \n",
    "\n",
    "EXCEPT\n",
    "\n",
    "SELECT  maker\n",
    "FROM PRODUCT \n",
    "WHERE type = 'Laptop'\n",
    "```\n",
    "\n",
    "**9.**\n",
    "\n",
    "```mysql\n",
    "SELECT DISTINCT maker\n",
    "FROM Product JOIN PC ON Product.model = PC.model\n",
    "WHERE speed >=450\n",
    "```\n",
    "\n",
    "**10.**\n",
    "\n",
    "```mysql\n",
    "SELECT model, price\n",
    "FROM Printer\n",
    "WHERE price IN (SELECT MAX(price)\n",
    "                FROM Printer)\n",
    "```\n",
    "\n",
    "**11.**\n",
    "\n",
    "```mysql\n",
    "SELECT AVG(speed)\n",
    "FROM PC\n",
    "\n",
    "```\n",
    "\n",
    "**12.**\n",
    "\n",
    "```mysql\n",
    "SELECT AVG(speed)\n",
    "FROM Laptop\n",
    "WHERE price > 1000\n",
    "```\n",
    "\n",
    "**13.**\n",
    "\n",
    "```mysql\n",
    "SELECT AVG(speed)\n",
    "FROM PC JOIN Product ON PC.model=Product.model\n",
    "WHERE maker = 'A'\n",
    "```\n",
    "\n",
    "**14.**\n",
    "\n",
    "```mysql\n",
    "SELECT Classes.class, name, country\n",
    "FROM Classes JOIN Ships ON Classes.class = Ships.class\n",
    "WHERE numGuns >= 10\n",
    "```\n",
    "\n",
    "**15.**\n",
    "\n",
    "```mysql\n",
    "SELECT hd\n",
    "FROM PC \n",
    "GROUP BY hd\n",
    "HAVING COUNT(*) >=2\n",
    "```\n",
    "\n",
    "**16.**\n",
    "\n",
    "```mysql\n",
    "SELECT DISTINCT A.model AS model, B.model AS model, A.speed As speed, A.ram As ram \n",
    "FROM PC AS A, PC B \n",
    "WHERE A.speed = B.speed AND A.ram = B.ram AND A.model > B.model\n",
    "```\n",
    "\n",
    "**17.**\n",
    "\n",
    "```mysql\n",
    "SELECT DISTINCT type as Type, Laptop.model as Model, speed\n",
    "FROM Laptop JOIN Product ON Laptop.model=Product.model\n",
    "WHERE speed < (SELECT MIN(speed) \n",
    "               FROM PC)\n",
    "```\n",
    "\n",
    "\n",
    "**18.**\n",
    "\n",
    "```mysql\n",
    "SELECT DISTINCT maker, price\n",
    "FROM Product JOIN Printer ON Product.model=Printer.model\n",
    "WHERE color = 'y' AND price = (SELECT MIN(price)\n",
    "                               FROM Printer\n",
    "                               WHERE color = 'y')\n",
    "```\n",
    "\n",
    "**19.**\n",
    "\n",
    "```mysql\n",
    "SELECT maker, AVG(screen)\n",
    "FROM Product JOIN Laptop ON Product.model=Laptop.model\n",
    "GROUP BY maker\n",
    "```\n",
    "\n",
    "**20.**\n",
    "\n",
    "```mysql\n",
    "SELECT maker, COUNT(model) AS Count_Model\n",
    "FROM Product \n",
    "WHERE type='PC'\n",
    "GROUP BY maker\n",
    "HAVING COUNT(Model) >=3\n",
    "```\n",
    "\n",
    "**21.**\n",
    "\n",
    "```mysql\n",
    "SELECT maker, MAX(price)\n",
    "FROM Product JOIN PC ON Product.model=PC.model\n",
    "GROUP BY maker\n",
    "```\n",
    "\n",
    "\n",
    "**22.**\n",
    "\n",
    "```mysql\n",
    "SELECT speed, AVG(price)\n",
    "FROM PC\n",
    "WHERE speed > 600\n",
    "GROUP BY speed\n",
    "```\n",
    "\n",
    "**23.**\n",
    "\n",
    "```mysql\n",
    "SELECT DISTINCT maker\n",
    "FROM Product\n",
    "WHERE maker IN (\n",
    "\tSELECT DISTINCT maker \n",
    "\tFROM Product JOIN PC ON Product.model = PC.model\n",
    "\tWHERE speed >= 750\n",
    ")\n",
    "AND maker IN (\n",
    "\tSELECT DISTINCT maker \n",
    "\tFROM Product JOIN Laptop ON Product.model = Laptop.model\n",
    "    WHERE speed >= 750\n",
    ")\n",
    "```\n",
    "\n",
    "**24.**\n",
    "\n",
    "```mysql\n",
    "WITH MAX\n",
    "AS (SELECT model, price FROM PC\n",
    "    UNION \n",
    "    SELECT model, price FROM Laptop\n",
    "    UNION \n",
    "    SELECT model, price FROM Printer)\n",
    "    \n",
    "SELECT model\n",
    "FROM MAX\n",
    "WHERE price = (SELECT MAX(price)\n",
    "               FROM MAX)\n",
    "```\n",
    "\n",
    "**25.**\n",
    "\n",
    "```mysql\n",
    "SELECT DISTINCT maker\n",
    "FROM Product JOIN PC ON Product.model = PC.model\n",
    "WHERE ram = (SELECT MIN(ram)\n",
    "             FROM PC)\n",
    "AND speed = (SELECT MAX(speed)\n",
    "             FROM PC\n",
    "             WHERE ram = (SELECT MIN(ram)\n",
    "\t\t                  FROM PC))\n",
    "AND maker IN (SELECT maker\n",
    "\t      FROM Product\n",
    "\t      WHERE type='Printer')\n",
    "```\n",
    "\n",
    "**26.**\n",
    "\n",
    "```mysql\n",
    "WITH Avg_price\n",
    "AS\n",
    "(\n",
    "SELECT price \n",
    "FROM Product JOIN PC ON Product.model=PC.model\n",
    "WHERE maker='A'\n",
    "\n",
    "UNION ALL\n",
    "\n",
    "SELECT price\n",
    "FROM Product JOIN Laptop ON Product.model=Laptop.model\n",
    "WHERE maker='A'\n",
    ")\n",
    "\n",
    "SELECT AVG(price) as AVG_price\n",
    "FROM Avg_price\n",
    "```\n",
    "\n",
    "\n",
    "**27.**\n",
    "\n",
    "```mysql\n",
    "SELECT maker, AVG(hd) AS Avg_hd\n",
    "FROM Product JOIN PC ON Product.model=PC.model\n",
    "WHERE maker IN (SELECT maker\n",
    "                FROM Product\n",
    "                WHERE type = 'Printer')\n",
    "GROUP BY maker\n",
    "\n",
    "```\n",
    "\n",
    "**28.**\n",
    "\n",
    "```mysql\n",
    "SELECT COUNT(maker) as qty\n",
    "FROM (SELECT maker\n",
    "      FROM Product\n",
    "      GROUP BY maker\n",
    "      HAVING COUNT(*) = 1) as T\n",
    "```\n",
    "\n",
    "**29.**\n",
    "\n",
    "```mysql\n",
    "SELECT i.point, i.date, i.inc, o.out\n",
    "FROM Income_o i LEFT JOIN Outcome_o o ON i.point = o.point AND i.date = o.date\n",
    "\n",
    "UNION\n",
    "\n",
    "SELECT o.point, o.date, i.inc, o.out\n",
    "FROM Outcome_o o LEFT JOIN Income_o i ON o.point = i.point AND o.date = i.date\n",
    "```\n",
    "\n",
    "**30.**\n",
    "\n",
    "```mysql\n",
    "SELECT point, date, SUM(sum_out), SUM(sum_inc)\n",
    "FROM (\n",
    "SELECT point, date, SUM(inc) as sum_inc, null as sum_out\n",
    "FROM  Income\n",
    "GROUP BY point, date\n",
    "\n",
    "UNION\n",
    "\n",
    "SELECT point, date, null as sum_inc, SUM(out) as sum_out\n",
    "FROM  Outcome\n",
    "GROUP BY point, date\n",
    ") as T\n",
    "GROUP BY point, date\n",
    "ORDER BY point\n",
    "```\n"
   ]
  }
 ],
 "metadata": {
  "kernelspec": {
   "display_name": "Python 3",
   "language": "python",
   "name": "python3"
  },
  "language_info": {
   "codemirror_mode": {
    "name": "ipython",
    "version": 3
   },
   "file_extension": ".py",
   "mimetype": "text/x-python",
   "name": "python",
   "nbconvert_exporter": "python",
   "pygments_lexer": "ipython3",
   "version": "3.8.8"
  }
 },
 "nbformat": 4,
 "nbformat_minor": 2
}
