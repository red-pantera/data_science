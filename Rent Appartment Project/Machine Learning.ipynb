{
 "cells": [
  {
   "cell_type": "markdown",
   "id": "71437ce8",
   "metadata": {},
   "source": [
    "### Імпорт бібліотек"
   ]
  },
  {
   "cell_type": "code",
   "execution_count": 1,
   "id": "9a8590c3",
   "metadata": {},
   "outputs": [],
   "source": [
    "import math\n",
    "import pickle\n",
    "import pandas as pd\n",
    "import numpy as np\n",
    "import seaborn as sns\n",
    "import matplotlib.pyplot as plt\n",
    "\n",
    "# data preparation\n",
    "from sklearn.preprocessing import MinMaxScaler, StandardScaler\n",
    "from sklearn.model_selection import train_test_split\n",
    "\n",
    "# models\n",
    "from sklearn.linear_model import LinearRegression, LogisticRegression\n",
    "from sklearn.ensemble import RandomForestRegressor\n",
    "from sklearn import svm\n",
    "from sklearn.tree import DecisionTreeRegressor\n",
    "from sklearn.neighbors import KNeighborsRegressor\n",
    "from sklearn.ensemble import GradientBoostingRegressor\n",
    "from xgboost import XGBRegressor\n",
    "from sklearn.ensemble import BaggingRegressor\n",
    "from sklearn.tree import ExtraTreeRegressor\n",
    "\n",
    "# metrics\n",
    "from sklearn.metrics import mean_squared_error\n",
    "from sklearn.metrics import r2_score # коефіцієнт детермінації"
   ]
  },
  {
   "cell_type": "markdown",
   "id": "42d678a2",
   "metadata": {},
   "source": [
    "### Завантаження датасету та розподіл на training та test sets"
   ]
  },
  {
   "cell_type": "code",
   "execution_count": 2,
   "id": "55583009",
   "metadata": {},
   "outputs": [],
   "source": [
    "df = pd.read_csv('data_score1234.csv')\n"
   ]
  },
  {
   "cell_type": "code",
   "execution_count": 3,
   "id": "84aa264d",
   "metadata": {},
   "outputs": [
    {
     "data": {
      "text/html": [
       "<div>\n",
       "<style scoped>\n",
       "    .dataframe tbody tr th:only-of-type {\n",
       "        vertical-align: middle;\n",
       "    }\n",
       "\n",
       "    .dataframe tbody tr th {\n",
       "        vertical-align: top;\n",
       "    }\n",
       "\n",
       "    .dataframe thead th {\n",
       "        text-align: right;\n",
       "    }\n",
       "</style>\n",
       "<table border=\"1\" class=\"dataframe\">\n",
       "  <thead>\n",
       "    <tr style=\"text-align: right;\">\n",
       "      <th></th>\n",
       "      <th>region score</th>\n",
       "      <th>metro score</th>\n",
       "      <th>metro distance</th>\n",
       "      <th>appartment complex</th>\n",
       "      <th>rooms</th>\n",
       "      <th>area</th>\n",
       "      <th>price</th>\n",
       "    </tr>\n",
       "  </thead>\n",
       "  <tbody>\n",
       "    <tr>\n",
       "      <th>0</th>\n",
       "      <td>1</td>\n",
       "      <td>2.0</td>\n",
       "      <td>1.64</td>\n",
       "      <td>0</td>\n",
       "      <td>2</td>\n",
       "      <td>50.0</td>\n",
       "      <td>10000</td>\n",
       "    </tr>\n",
       "    <tr>\n",
       "      <th>1</th>\n",
       "      <td>1</td>\n",
       "      <td>1.0</td>\n",
       "      <td>0.68</td>\n",
       "      <td>1</td>\n",
       "      <td>1</td>\n",
       "      <td>43.0</td>\n",
       "      <td>13000</td>\n",
       "    </tr>\n",
       "    <tr>\n",
       "      <th>2</th>\n",
       "      <td>1</td>\n",
       "      <td>3.0</td>\n",
       "      <td>7.25</td>\n",
       "      <td>0</td>\n",
       "      <td>3</td>\n",
       "      <td>75.0</td>\n",
       "      <td>15000</td>\n",
       "    </tr>\n",
       "    <tr>\n",
       "      <th>3</th>\n",
       "      <td>1</td>\n",
       "      <td>3.0</td>\n",
       "      <td>5.64</td>\n",
       "      <td>0</td>\n",
       "      <td>1</td>\n",
       "      <td>38.0</td>\n",
       "      <td>6000</td>\n",
       "    </tr>\n",
       "    <tr>\n",
       "      <th>4</th>\n",
       "      <td>1</td>\n",
       "      <td>3.0</td>\n",
       "      <td>6.11</td>\n",
       "      <td>0</td>\n",
       "      <td>1</td>\n",
       "      <td>38.0</td>\n",
       "      <td>6000</td>\n",
       "    </tr>\n",
       "  </tbody>\n",
       "</table>\n",
       "</div>"
      ],
      "text/plain": [
       "   region score  metro score  metro distance  appartment complex  rooms  area  \\\n",
       "0             1          2.0            1.64                   0      2  50.0   \n",
       "1             1          1.0            0.68                   1      1  43.0   \n",
       "2             1          3.0            7.25                   0      3  75.0   \n",
       "3             1          3.0            5.64                   0      1  38.0   \n",
       "4             1          3.0            6.11                   0      1  38.0   \n",
       "\n",
       "   price  \n",
       "0  10000  \n",
       "1  13000  \n",
       "2  15000  \n",
       "3   6000  \n",
       "4   6000  "
      ]
     },
     "execution_count": 3,
     "metadata": {},
     "output_type": "execute_result"
    }
   ],
   "source": [
    "df.head()"
   ]
  },
  {
   "cell_type": "code",
   "execution_count": 4,
   "id": "e99d5712",
   "metadata": {},
   "outputs": [
    {
     "data": {
      "text/plain": [
       "Index(['region score', 'metro score', 'metro distance', 'appartment complex',\n",
       "       'rooms', 'area', 'price'],\n",
       "      dtype='object')"
      ]
     },
     "execution_count": 4,
     "metadata": {},
     "output_type": "execute_result"
    }
   ],
   "source": [
    "df.columns"
   ]
  },
  {
   "cell_type": "code",
   "execution_count": 5,
   "id": "f77f2900",
   "metadata": {},
   "outputs": [
    {
     "name": "stdout",
     "output_type": "stream",
     "text": [
      "train_df.shape : (1427, 7)\n",
      "test_df.shape : (612, 7)\n"
     ]
    }
   ],
   "source": [
    "train_df, test_df = train_test_split(df, test_size=0.3, random_state=42)\n",
    "print('train_df.shape :', train_df.shape)\n",
    "print('test_df.shape :', test_df.shape)"
   ]
  },
  {
   "cell_type": "code",
   "execution_count": 6,
   "id": "0c04fef7",
   "metadata": {},
   "outputs": [],
   "source": [
    "input_cols = ['region score', 'metro distance', 'appartment complex', 'rooms', 'area']\n",
    "target_col = 'price'\n",
    "\n",
    "X_train, Y_train = train_df[input_cols].copy(), train_df[target_col].copy()\n",
    "X_test, Y_test = test_df[input_cols].copy(), test_df[target_col].copy()"
   ]
  },
  {
   "cell_type": "markdown",
   "id": "bc4d277d",
   "metadata": {},
   "source": [
    "### Scale data"
   ]
  },
  {
   "cell_type": "code",
   "execution_count": 7,
   "id": "219344fa",
   "metadata": {},
   "outputs": [],
   "source": [
    "scaler = MinMaxScaler().fit(df[input_cols])\n",
    "X_train = scaler.transform(X_train)\n",
    "X_test = scaler.transform(X_test)"
   ]
  },
  {
   "cell_type": "markdown",
   "id": "adc97bfd",
   "metadata": {},
   "source": [
    "### 1. Linear Regression"
   ]
  },
  {
   "cell_type": "code",
   "execution_count": 8,
   "id": "b3ca5d90",
   "metadata": {},
   "outputs": [
    {
     "name": "stdout",
     "output_type": "stream",
     "text": [
      "Score: 0.5793709848166513\n",
      "RMSE: 5668.751208145005\n"
     ]
    }
   ],
   "source": [
    "lin_reg = LinearRegression()\n",
    "lin_reg.fit(X_train, Y_train)\n",
    "lr_pred = lin_reg.predict(X_train)\n",
    "\n",
    "lr_score = r2_score(Y_train, lr_pred)\n",
    "lr_rmse = math.sqrt(mean_squared_error(Y_train, lr_pred))\n",
    "print('Score:', lr_score)\n",
    "print('RMSE:', lr_rmse)"
   ]
  },
  {
   "cell_type": "markdown",
   "id": "6360d198",
   "metadata": {},
   "source": [
    "### 2. Random Forest Regressor"
   ]
  },
  {
   "cell_type": "code",
   "execution_count": 52,
   "id": "6f4a3d09",
   "metadata": {},
   "outputs": [
    {
     "name": "stdout",
     "output_type": "stream",
     "text": [
      "Score: 0.9466343615176855\n",
      "RMSE: 2019.1502555061938\n",
      "\n",
      "Random Forest Regressor\n",
      "Score: 0.7141790895361292\n",
      "RMSE: 4570.075594653333\n"
     ]
    }
   ],
   "source": [
    "rand_forest = RandomForestRegressor(n_estimators=2000, max_depth=15, max_features='sqrt')\n",
    "rand_forest.fit(X_train, Y_train)\n",
    "rf_pred = rand_forest.predict(X_train)\n",
    "\n",
    "rf_score = r2_score(Y_train, rf_pred)\n",
    "rf_rmse = math.sqrt(mean_squared_error(Y_train, rf_pred))\n",
    "print('Score:', rf_score)\n",
    "print('RMSE:', rf_rmse)\n"
   ]
  },
  {
   "cell_type": "markdown",
   "id": "4c8d0793",
   "metadata": {},
   "source": [
    "### 3. Support Vector Regression"
   ]
  },
  {
   "cell_type": "code",
   "execution_count": 10,
   "id": "202e04e1",
   "metadata": {},
   "outputs": [
    {
     "name": "stdout",
     "output_type": "stream",
     "text": [
      "Score: 0.011309124563383954\n",
      "RMSE: 8690.965909626597\n"
     ]
    }
   ],
   "source": [
    "svr_model = svm.SVR()\n",
    "svr_model.fit(X_train, Y_train)\n",
    "svr_pred = svr_model.predict(X_train)\n",
    "\n",
    "svr_score = r2_score(Y_train, svr_pred)\n",
    "svr_rmse = math.sqrt(mean_squared_error(Y_train, svr_pred))\n",
    "print('Score:', svr_score)\n",
    "print('RMSE:', svr_rmse)"
   ]
  },
  {
   "cell_type": "markdown",
   "id": "02b748f9",
   "metadata": {},
   "source": [
    "### 4. Decision Tree Regression"
   ]
  },
  {
   "cell_type": "code",
   "execution_count": 11,
   "id": "9ea8c93d",
   "metadata": {},
   "outputs": [
    {
     "name": "stdout",
     "output_type": "stream",
     "text": [
      "Score: 0.9887131833413144\n",
      "RMSE: 928.5889654899385\n"
     ]
    }
   ],
   "source": [
    "dec_tree_model = DecisionTreeRegressor()\n",
    "dec_tree_model.fit(X_train, Y_train)\n",
    "dec_tree_pred = dec_tree_model.predict(X_train)\n",
    "\n",
    "dec_tree_score = r2_score(Y_train, dec_tree_pred)\n",
    "dec_tree_rmse = math.sqrt(mean_squared_error(Y_train, dec_tree_pred))\n",
    "print('Score:', dec_tree_score)\n",
    "print('RMSE:', dec_tree_rmse)"
   ]
  },
  {
   "cell_type": "markdown",
   "id": "7923255c",
   "metadata": {},
   "source": [
    "### 5. KNeighbors Regressor"
   ]
  },
  {
   "cell_type": "code",
   "execution_count": 12,
   "id": "ea25565b",
   "metadata": {},
   "outputs": [
    {
     "name": "stdout",
     "output_type": "stream",
     "text": [
      "Score: 0.7628403255390663\n",
      "RMSE: 4256.554575915069\n"
     ]
    }
   ],
   "source": [
    "kn_reg_model = KNeighborsRegressor()\n",
    "kn_reg_model.fit(X_train, Y_train)\n",
    "kn_reg_pred = kn_reg_model.predict(X_train)\n",
    "\n",
    "kn_reg_score = r2_score(Y_train, kn_reg_pred)\n",
    "kn_reg_rmse = math.sqrt(mean_squared_error(Y_train, kn_reg_pred))\n",
    "print('Score:', kn_reg_score)\n",
    "print('RMSE:', kn_reg_rmse)"
   ]
  },
  {
   "cell_type": "markdown",
   "id": "932ac12b",
   "metadata": {},
   "source": [
    "### 6. Logistic Regression"
   ]
  },
  {
   "cell_type": "code",
   "execution_count": 13,
   "id": "3fe42455",
   "metadata": {},
   "outputs": [
    {
     "name": "stdout",
     "output_type": "stream",
     "text": [
      "Score: 0.4141097151389115\n",
      "RMSE: 6690.305226402205\n"
     ]
    }
   ],
   "source": [
    "log_reg_model = LogisticRegression()\n",
    "log_reg_model.fit(X_train, Y_train)\n",
    "log_reg_pred = log_reg_model.predict(X_train)\n",
    "\n",
    "log_reg_score = r2_score(Y_train, log_reg_pred)\n",
    "log_reg_rmse = math.sqrt(mean_squared_error(Y_train, log_reg_pred))\n",
    "print('Score:', log_reg_score)\n",
    "print('RMSE:', log_reg_rmse)"
   ]
  },
  {
   "cell_type": "markdown",
   "id": "98d5d101",
   "metadata": {},
   "source": [
    "### 7. Gradient Boosting Regressor"
   ]
  },
  {
   "cell_type": "code",
   "execution_count": 14,
   "id": "e369a2aa",
   "metadata": {},
   "outputs": [
    {
     "name": "stdout",
     "output_type": "stream",
     "text": [
      "Score: 0.7284502586328903\n",
      "RMSE: 4554.728349098231\n"
     ]
    }
   ],
   "source": [
    "gb_reg_model = GradientBoostingRegressor(learning_rate=0.09)\n",
    "gb_reg_model.fit(X_train, Y_train)\n",
    "gb_reg_pred = gb_reg_model.predict(X_train)\n",
    "\n",
    "gb_reg_score = r2_score(Y_train, gb_reg_pred)\n",
    "gb_reg_rmse = math.sqrt(mean_squared_error(Y_train, gb_reg_pred))\n",
    "print('Score:', gb_reg_score)\n",
    "print('RMSE:', gb_reg_rmse)\n"
   ]
  },
  {
   "cell_type": "markdown",
   "id": "8db03f9a",
   "metadata": {},
   "source": [
    "### 8. XGB Regressor"
   ]
  },
  {
   "cell_type": "code",
   "execution_count": 15,
   "id": "24273007",
   "metadata": {},
   "outputs": [
    {
     "name": "stdout",
     "output_type": "stream",
     "text": [
      "Score: 0.8219262848517926\n",
      "RMSE: 3688.3972800743486\n"
     ]
    }
   ],
   "source": [
    "xgboost_model = XGBRegressor(max_depth=3, eta=0.33)\n",
    "xgboost_model.fit(X_train, Y_train)\n",
    "xgboost_pred = xgboost_model.predict(X_train)\n",
    "\n",
    "xgboost_score = r2_score(Y_train, xgboost_pred)\n",
    "xgboost_rmse = math.sqrt(mean_squared_error(Y_train, xgboost_pred))\n",
    "print('Score:', xgboost_score)\n",
    "print('RMSE:', xgboost_rmse)\n",
    "\n"
   ]
  },
  {
   "cell_type": "markdown",
   "id": "463cd2c0",
   "metadata": {},
   "source": [
    "### 9. Extra Tree Regressor"
   ]
  },
  {
   "cell_type": "code",
   "execution_count": 16,
   "id": "84b5f09a",
   "metadata": {},
   "outputs": [
    {
     "name": "stdout",
     "output_type": "stream",
     "text": [
      "Score: 0.9370723897372819\n",
      "RMSE: 2192.5949171980214\n"
     ]
    }
   ],
   "source": [
    "extra_tree = ExtraTreeRegressor()\n",
    "reg = BaggingRegressor(extra_tree, random_state=0).fit(X_train, Y_train)\n",
    "extra_tree_pred = reg.predict(X_train)\n",
    "\n",
    "extra_tree_score = r2_score(Y_train, extra_tree_pred)\n",
    "extra_tree_rmse = math.sqrt(mean_squared_error(Y_train, extra_tree_pred))\n",
    "print('Score:', extra_tree_score)\n",
    "print('RMSE:', extra_tree_rmse)\n"
   ]
  },
  {
   "cell_type": "markdown",
   "id": "71731172",
   "metadata": {},
   "source": [
    "### Оцінка моделей на test set"
   ]
  },
  {
   "cell_type": "code",
   "execution_count": 45,
   "id": "5ac34093",
   "metadata": {},
   "outputs": [
    {
     "name": "stdout",
     "output_type": "stream",
     "text": [
      "\n",
      "Linear Regression\n",
      "Score: 0.574327565065174\n",
      "RMSE: 5577.173415721903\n",
      "\n",
      "Random Forest Regressor\n",
      "Score: 0.7125541349212099\n",
      "RMSE: 4583.048124318871\n",
      "\n",
      "Support Vector Regression\n",
      "Score: 0.019768915715963176\n",
      "RMSE: 8463.31723230278\n",
      "\n",
      "Decision Tree Regression\n",
      "Score: 0.4949433139645376\n",
      "RMSE: 6075.002305894769\n",
      "\n",
      "KNeighbors Regressor\n",
      "Score: 0.6384953403042242\n",
      "RMSE: 5139.647504507312\n",
      "\n",
      "Logistic Regression\n",
      "Score: 0.4160712010756029\n",
      "RMSE: 6532.1527544786595\n",
      "\n",
      "Gradient Boosting Regressor\n",
      "Score: 0.6445652050727368\n",
      "RMSE: 5096.316071362179\n",
      "\n",
      "XGB Regressor\n",
      "Score: 0.6768116925986912\n",
      "RMSE: 4859.641193655316\n",
      "\n",
      "Extra Tree Regressor\n",
      "Score: 0.682947946185301\n",
      "RMSE: 4813.286026838869\n"
     ]
    }
   ],
   "source": [
    "lr_pred_test = lin_reg.predict(X_test)\n",
    "lr_score_test = r2_score(Y_test, lr_pred_test)\n",
    "lr_rmse_test = math.sqrt(mean_squared_error(Y_test, lr_pred_test))\n",
    "print('\\nLinear Regression')\n",
    "print('Score:', lr_score_test)\n",
    "print('RMSE:', lr_rmse_test)\n",
    "\n",
    "\n",
    "\n",
    "rf_pred_test = rand_forest.predict(X_test)\n",
    "rf_score_test = r2_score(Y_test, rf_pred_test)\n",
    "rf_rmse_test = math.sqrt(mean_squared_error(Y_test, rf_pred_test))\n",
    "print('\\nRandom Forest Regressor')\n",
    "print('Score:', rf_score_test)\n",
    "print('RMSE:', rf_rmse_test)\n",
    "\n",
    "\n",
    "\n",
    "svr_pred_test = svr_model.predict(X_test)\n",
    "svr_score_test = r2_score(Y_test, svr_pred_test)\n",
    "svr_rmse_test = math.sqrt(mean_squared_error(Y_test, svr_pred_test))\n",
    "print('\\nSupport Vector Regression')\n",
    "print('Score:', svr_score_test)\n",
    "print('RMSE:', svr_rmse_test)\n",
    "\n",
    "\n",
    "dec_tree_pred_test = dec_tree_model.predict(X_test)\n",
    "dec_tree_score_test = r2_score(Y_test, dec_tree_pred_test)\n",
    "dec_tree_rmse_test = math.sqrt(mean_squared_error(Y_test, dec_tree_pred_test))\n",
    "print('\\nDecision Tree Regression')\n",
    "print('Score:', dec_tree_score_test)\n",
    "print('RMSE:', dec_tree_rmse_test)\n",
    "\n",
    "\n",
    "\n",
    "kn_reg_pred_test = kn_reg_model.predict(X_test)\n",
    "kn_reg_score_test = r2_score(Y_test, kn_reg_pred_test)\n",
    "kn_reg_rmse_test = math.sqrt(mean_squared_error(Y_test, kn_reg_pred_test))\n",
    "print('\\nKNeighbors Regressor')\n",
    "print('Score:', kn_reg_score_test)\n",
    "print('RMSE:', kn_reg_rmse_test)\n",
    "\n",
    "\n",
    "log_reg_pred_test = log_reg_model.predict(X_test)\n",
    "log_reg_score_test = r2_score(Y_test, log_reg_pred_test)\n",
    "log_reg_rmse_test = math.sqrt(mean_squared_error(Y_test, log_reg_pred_test))\n",
    "print('\\nLogistic Regression')\n",
    "print('Score:', log_reg_score_test)\n",
    "print('RMSE:', log_reg_rmse_test)\n",
    "\n",
    "\n",
    "gb_reg_pred_test = gb_reg_model.predict(X_test)\n",
    "gb_reg_score_test = r2_score(Y_test, gb_reg_pred_test)\n",
    "gb_reg_rmse_test = math.sqrt(mean_squared_error(Y_test, gb_reg_pred_test))\n",
    "print('\\nGradient Boosting Regressor')\n",
    "print('Score:', gb_reg_score_test)\n",
    "print('RMSE:', gb_reg_rmse_test)\n",
    "\n",
    "\n",
    "xgboost_pred_test = xgboost_model.predict(X_test)\n",
    "xgboost_score_test = r2_score(Y_test, xgboost_pred_test)\n",
    "xgboost_rmse_test = math.sqrt(mean_squared_error(Y_test, xgboost_pred_test))\n",
    "print('\\nXGB Regressor')\n",
    "print('Score:', xgboost_score_test)\n",
    "print('RMSE:', xgboost_rmse_test)\n",
    "\n",
    "\n",
    "extra_tree_pred_test = reg.predict(X_test)\n",
    "extra_tree_score_test = r2_score(Y_test, extra_tree_pred_test)\n",
    "extra_tree_rmse_test = math.sqrt(mean_squared_error(Y_test, extra_tree_pred_test))\n",
    "print('\\nExtra Tree Regressor')\n",
    "print('Score:', extra_tree_score_test)\n",
    "print('RMSE:', extra_tree_rmse_test)"
   ]
  },
  {
   "cell_type": "code",
   "execution_count": 18,
   "id": "538b0aab",
   "metadata": {},
   "outputs": [
    {
     "data": {
      "image/png": "[encoded data removed]",
      "text/plain": [
       "<Figure size 1080x576 with 1 Axes>"
      ]
     },
     "metadata": {
      "needs_background": "light"
     },
     "output_type": "display_data"
    }
   ],
   "source": [
    "df_model = pd.DataFrame()\n",
    "df_model['Model'] = ['Linear Regression', 'Random Forest Regressor', 'Support Vector Regression',\n",
    "                    'Decision Tree Regression', 'KNeighbors Regressor', 'Logistic Regression',\n",
    "                    'Gradient Boosting Regressor', 'XGB Regressor', 'Extra Tree Regressor']\n",
    "\n",
    "df_model['RMSE_Price'] = [lr_rmse_test, rf_rmse_test, svr_rmse_test, dec_tree_rmse_test,\n",
    "                          kn_reg_rmse_test, log_reg_rmse_test, gb_reg_rmse_test, \n",
    "                          xgboost_rmse_test,extra_tree_rmse_test]\n",
    "\n",
    "df_model['R2_Price'] = [lr_score_test, rf_score_test, svr_score_test, dec_tree_score_test,\n",
    "                          kn_reg_score_test, log_reg_score_test, gb_reg_score_test, \n",
    "                          xgboost_score_test,extra_tree_score_test]\n",
    "\n",
    "df_model = df_model.sort_values('RMSE_Price')\n",
    "\n",
    "plt.figure(figsize=(15,8))\n",
    "ax = sns.barplot(x=\"RMSE_Price\", y=\"Model\", data=df_model, palette=\"Blues_d\")\n"
   ]
  },
  {
   "cell_type": "code",
   "execution_count": 19,
   "id": "8f147e20",
   "metadata": {},
   "outputs": [
    {
     "data": {
      "image/png": "[encoded data removed]",
      "text/plain": [
       "<Figure size 432x288 with 1 Axes>"
      ]
     },
     "metadata": {
      "needs_background": "light"
     },
     "output_type": "display_data"
    }
   ],
   "source": [
    "data1 = df_model.sort_values('R2_Price', ascending=False)[:5]\n",
    "ax = sns.barplot(x=\"R2_Price\", y=\"Model\", data=data1, palette=\"Blues_d\")"
   ]
  },
  {
   "cell_type": "markdown",
   "id": "4a8df3b9",
   "metadata": {},
   "source": [
    "### Зберегти модель у файл"
   ]
  },
  {
   "cell_type": "code",
   "execution_count": 20,
   "id": "7367fc5c",
   "metadata": {},
   "outputs": [],
   "source": [
    "filename = 'rand_forest.sav'\n",
    "pickle.dump(rand_forest, open(filename, 'wb'))\n",
    "\n",
    "# filename = 'xgb.sav'\n",
    "# pickle.dump(xgboost_model, open(filename, 'wb'))\n",
    "\n",
    "# filename = 'gb_reg_model.sav'\n",
    "# pickle.dump(gb_reg_model, open(filename, 'wb'))"
   ]
  },
  {
   "cell_type": "code",
   "execution_count": 21,
   "id": "c4b637d3",
   "metadata": {},
   "outputs": [
    {
     "name": "stdout",
     "output_type": "stream",
     "text": [
      "Test score: 71.32 %\n"
     ]
    }
   ],
   "source": [
    "# завантажити модель\n",
    "loaded_model = pickle.load(open(filename, 'rb'))\n",
    "score = loaded_model.score(X_test, Y_test)\n",
    "\n",
    "print(\"Test score: {0:.2f} %\".format(100 * score))"
   ]
  },
  {
   "cell_type": "code",
   "execution_count": null,
   "id": "981767ed",
   "metadata": {},
   "outputs": [],
   "source": []
  },
  {
   "cell_type": "code",
   "execution_count": null,
   "id": "a0d669ce",
   "metadata": {},
   "outputs": [],
   "source": [
    "from sklearn.ensemble import BaggingRegressor\n",
    "\n",
    "bag_reg = BaggingRegressor(base_estimator=rand_forest,n_estimators=50, random_state=42)\n",
    "bag_reg.fit(X_train, Y_train)\n",
    "bag_reg_pred = bag_reg.predict(X_train)\n",
    "\n",
    "bag_reg_score = r2_score(Y_train, bag_reg_pred)\n",
    "bag_reg_rmse = math.sqrt(mean_squared_error(Y_train, bag_reg_pred))\n",
    "print('Score:', bag_reg_score)\n",
    "print('RMSE:', bag_reg_rmse)\n"
   ]
  },
  {
   "cell_type": "code",
   "execution_count": 26,
   "id": "35704dfd",
   "metadata": {},
   "outputs": [
    {
     "name": "stdout",
     "output_type": "stream",
     "text": [
      "\n",
      "Bagging Regressor\n",
      "Score: 0.7109748589245345\n",
      "RMSE: 4595.620897894366\n"
     ]
    }
   ],
   "source": [
    "bag_reg_pred_test = bag_reg.predict(X_test)\n",
    "bag_reg_score_test = r2_score(Y_test, bag_reg_pred_test)\n",
    "bag_reg_rmse_test = math.sqrt(mean_squared_error(Y_test, bag_reg_pred_test))\n",
    "print('\\nBagging Regressor')\n",
    "print('Score:', bag_reg_score_test)\n",
    "print('RMSE:', bag_reg_rmse_test)"
   ]
  }
 ],
 "metadata": {
  "kernelspec": {
   "display_name": "Python 3",
   "language": "python",
   "name": "python3"
  },
  "language_info": {
   "codemirror_mode": {
    "name": "ipython",
    "version": 3
   },
   "file_extension": ".py",
   "mimetype": "text/x-python",
   "name": "python",
   "nbconvert_exporter": "python",
   "pygments_lexer": "ipython3",
   "version": "3.8.8"
  }
 },
 "nbformat": 4,
 "nbformat_minor": 5
}
