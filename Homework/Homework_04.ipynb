{
 "cells": [
  {
   "cell_type": "markdown",
   "id": "6c9c0912",
   "metadata": {},
   "source": [
    "#### Завдання 1\n",
    "\n",
    "\tНапишіть програму \"Угадай число\". Програма загадує деяке число. Користувач повинен його відгадати\n",
    "\tПриклад діалогу має мати наступний вигляд:\n",
    "\n",
    "\t\t----------------**********----------------\n",
    "\t\tВведіть своє ім'я:\n",
    "\n",
    "\t\t>>>> Ігор\n",
    "\n",
    "\t\tВгадайте число від 1 до 10. У вас три спроби.\n",
    "\t\tВведіть число:\n",
    "\t\t\n",
    "\t\t>>>> 1\n",
    "\n",
    "\t\tПомилка. Ваша перша спроба невірна.\n",
    "\t\tПідказка: задумане число більше за 1. \n",
    "\t\tСпробуйте ще раз! \n",
    "\t\tВведіть число:\n",
    "\n",
    "\t\t>>>> 10\n",
    "\n",
    "\t\tПомилка. Ваша перша спроба невірна.\n",
    "\t\tПідказка: задумане число менше 10. \n",
    "\t\tСпробуйте ще раз! \n",
    "\t\tВведіть число:\n",
    "\n",
    "\t\t>>>> 7\n",
    "\n",
    "\t\tПомилка. \n",
    "\t\tІгор, гра закінчена.\n",
    "\t\t\n",
    "\t\t----------------**********----------------"
   ]
  },
  {
   "cell_type": "code",
   "execution_count": 42,
   "id": "2b4656c8",
   "metadata": {},
   "outputs": [],
   "source": [
    "import random \n",
    "\n",
    "def number_guess():\n",
    "    user_name = input(\"Введіть своє ім'я: \")\n",
    "    random_num = random.randint(1, 10)\n",
    "    win = False\n",
    "    print('Вгадайте число від 1 до 10. У вас три спроби.')\n",
    "    for i in range(3):\n",
    "        number = int(input('\\nВведіть число: '))\n",
    "        if number == random_num:\n",
    "            print(f'{user_name}, ви вгадали число! Вітаю!')\n",
    "            win = True\n",
    "            break\n",
    "        elif number < random_num:\n",
    "            print('Помилка. Число невірне.')\n",
    "            print(f'Підказка: задумане число більше {number}')\n",
    "        elif number > random_num:\n",
    "            print('Помилка. Число невірне.')\n",
    "            print(f'Підказка: задумане число менше {number}')\n",
    "            \n",
    "    if win == False:\n",
    "        print('\\nПомилка')\n",
    "        print(f'{user_name}, гра закінчена') \n",
    "\n",
    "\n",
    "\n"
   ]
  },
  {
   "cell_type": "code",
   "execution_count": 44,
   "id": "5ad50b45",
   "metadata": {},
   "outputs": [
    {
     "name": "stdout",
     "output_type": "stream",
     "text": [
      "Введіть своє ім'я: Ліза\n",
      "Вгадайте число від 1 до 10. У вас три спроби.\n",
      "\n",
      "Введіть число: 5\n",
      "Помилка. Число невірне.\n",
      "Підказка: задумане число більше 5\n",
      "\n",
      "Введіть число: 8\n",
      "Помилка. Число невірне.\n",
      "Підказка: задумане число менше 8\n",
      "\n",
      "Введіть число: 7\n",
      "Помилка. Число невірне.\n",
      "Підказка: задумане число менше 7\n",
      "\n",
      "Помилка\n",
      "Ліза, гра закінчена\n"
     ]
    }
   ],
   "source": [
    "number_guess()"
   ]
  },
  {
   "cell_type": "markdown",
   "id": "16c08826",
   "metadata": {},
   "source": [
    "#### Завдання 2\n",
    "\t\n",
    "    Напишіть програму \"Митниця\". Алгоритм її роботи наступний: програма на вхід получає імена людей, що перетинають кордон. \n",
    "\tВвід закінчується тоді, коли введено слово \"END\"\n",
    "\tПри завершені роботи, програма виводить ім’я людини та кількість перетинів кордону. \n",
    "\n",
    "\t\t----------------**********----------------\n",
    "\t\tХто перетинає кордон:\n",
    "\n",
    "\t\t>>>> Ігор\n",
    "\n",
    "\t\tХто перетинає кордон:\n",
    "\n",
    "\t\t>>>> Оля\n",
    "\n",
    "\t\tХто перетинає кордон:\n",
    "\n",
    "\t\t>>>> Ігор\t\t\n",
    "\n",
    "\t\tХто перетинає кордон:\n",
    "\n",
    "\t\t>>>> Ігор\t\t\n",
    "\t\t\n",
    "\t\tХто перетинає кордон:\n",
    "\n",
    "\t\t>>>> Андрій\n",
    "\n",
    "\t\tХто перетинає кордон:\n",
    "\n",
    "\t\t>>>> END\n",
    "\t\t\n",
    "\t\tІгор - 3\n",
    "\t\tОля - 1\n",
    "\t\tАндрій - 1\n",
    "\t\t\n",
    "\t\t----------------**********----------------"
   ]
  },
  {
   "cell_type": "code",
   "execution_count": 63,
   "id": "2c54d746",
   "metadata": {},
   "outputs": [],
   "source": [
    "def customs():\n",
    "    my_dict = {} \n",
    "    while True:\n",
    "        name = input('Хто перетинає кордон: ')\n",
    "        \n",
    "        if name == 'END':\n",
    "            break\n",
    "            \n",
    "        if name in my_dict.keys():\n",
    "            my_dict[name] += 1\n",
    "        else:\n",
    "            my_dict[name] = 1\n",
    "                \n",
    "    for name, qty in my_dict.items():\n",
    "        print(f'{name} - {qty}')\n",
    "    "
   ]
  },
  {
   "cell_type": "code",
   "execution_count": 64,
   "id": "978cbdf3",
   "metadata": {},
   "outputs": [
    {
     "name": "stdout",
     "output_type": "stream",
     "text": [
      "Хто перетинає кордон: Ліза\n",
      "Хто перетинає кордон: Андрій\n",
      "Хто перетинає кордон: Катя\n",
      "Хто перетинає кордон: Андрій\n",
      "Хто перетинає кордон: Міша\n",
      "Хто перетинає кордон: Міша\n",
      "Хто перетинає кордон: Ліза\n",
      "Хто перетинає кордон: Роман\n",
      "Хто перетинає кордон: END\n",
      "Ліза - 2\n",
      "Андрій - 2\n",
      "Катя - 1\n",
      "Міша - 2\n",
      "Роман - 1\n"
     ]
    }
   ],
   "source": [
    "customs()"
   ]
  },
  {
   "cell_type": "markdown",
   "id": "785bfa82",
   "metadata": {},
   "source": [
    "#### Завдання 3\n",
    "\t\n",
    "    Створіть матрицю чисел 3х4. Заповніть її цілими числами від 0 до 10. Знайдіть:\n",
    "    \n",
    "        - Суму всіх чисел матриці.\n",
    "        - Максимальний елемент.\n",
    "        - Суму чисел в першому рядку.\n",
    "        - Мінімальний елемент в  другому стовбці.\n",
    "        - Максимальний елемент по головній діагоналі (діагональ, що проходить через лівий верхній та правий нижній кути)."
   ]
  },
  {
   "cell_type": "code",
   "execution_count": 22,
   "id": "fa1773a9",
   "metadata": {},
   "outputs": [],
   "source": [
    "import random\n",
    "\n",
    "matrix_size = (3, 4)\n",
    "matrix = []\n",
    "\n",
    "for i in range(matrix_size[0]):\n",
    "    row = []\n",
    "    for j in range(matrix_size[1]):\n",
    "         row.append(random.randint(1, 10))\n",
    "    matrix.append(row)"
   ]
  },
  {
   "cell_type": "code",
   "execution_count": 23,
   "id": "c72e2f0a",
   "metadata": {},
   "outputs": [
    {
     "data": {
      "text/plain": [
       "[[1, 9, 5, 4], [9, 2, 4, 8], [3, 7, 5, 4]]"
      ]
     },
     "execution_count": 23,
     "metadata": {},
     "output_type": "execute_result"
    }
   ],
   "source": [
    "matrix"
   ]
  },
  {
   "cell_type": "code",
   "execution_count": null,
   "id": "f688d31f",
   "metadata": {},
   "outputs": [],
   "source": [
    "# Сума всіх чисел матриці\n",
    "matrix_sum = sum(list(map(lambda i: sum(i), matrix)))\n",
    "matrix_sum"
   ]
  },
  {
   "cell_type": "code",
   "execution_count": 42,
   "id": "fe0ca5d8",
   "metadata": {},
   "outputs": [
    {
     "data": {
      "text/plain": [
       "61"
      ]
     },
     "execution_count": 42,
     "metadata": {},
     "output_type": "execute_result"
    }
   ],
   "source": [
    "# Сума всіх чисел матриці 2ий спосіб\n",
    "matrix_sum = 0\n",
    "for row in matrix:\n",
    "    matrix_sum += sum(row)\n",
    "\n",
    "matrix_sum"
   ]
  },
  {
   "cell_type": "code",
   "execution_count": 44,
   "id": "98f4e96d",
   "metadata": {},
   "outputs": [
    {
     "data": {
      "text/plain": [
       "9"
      ]
     },
     "execution_count": 44,
     "metadata": {},
     "output_type": "execute_result"
    }
   ],
   "source": [
    "# Максимальний елемент\n",
    "max_el = max(max(matrix))"
   ]
  },
  {
   "cell_type": "code",
   "execution_count": 47,
   "id": "babf4c2d",
   "metadata": {},
   "outputs": [
    {
     "data": {
      "text/plain": [
       "19"
      ]
     },
     "execution_count": 47,
     "metadata": {},
     "output_type": "execute_result"
    }
   ],
   "source": [
    "# Сума чисел в першому рядку\n",
    "first_row_sum = sum(matrix[0])\n",
    "first_row_sum"
   ]
  },
  {
   "cell_type": "code",
   "execution_count": 54,
   "id": "8781a2d5",
   "metadata": {},
   "outputs": [
    {
     "data": {
      "text/plain": [
       "2"
      ]
     },
     "execution_count": 54,
     "metadata": {},
     "output_type": "execute_result"
    }
   ],
   "source": [
    "# Мінімальний елемент в  другому стовбці\n",
    "row_min = matrix[0][1]\n",
    "\n",
    "for row in matrix:\n",
    "    if row[1] < row_min:\n",
    "        row_min = row[1]\n",
    "row_min"
   ]
  },
  {
   "cell_type": "code",
   "execution_count": 57,
   "id": "e97bd3cc",
   "metadata": {},
   "outputs": [
    {
     "data": {
      "text/plain": [
       "5"
      ]
     },
     "execution_count": 57,
     "metadata": {},
     "output_type": "execute_result"
    }
   ],
   "source": [
    "# Максимальний елемент по головній діагоналі\n",
    "diag_max = matrix[0][0]\n",
    "for i in range(matrix_size[0]):\n",
    "    if matrix[i][i] > diag_max:\n",
    "        diag_max = matrix[i][i]\n",
    "diag_max"
   ]
  }
 ],
 "metadata": {
  "kernelspec": {
   "display_name": "Python 3",
   "language": "python",
   "name": "python3"
  },
  "language_info": {
   "codemirror_mode": {
    "name": "ipython",
    "version": 3
   },
   "file_extension": ".py",
   "mimetype": "text/x-python",
   "name": "python",
   "nbconvert_exporter": "python",
   "pygments_lexer": "ipython3",
   "version": "3.8.8"
  }
 },
 "nbformat": 4,
 "nbformat_minor": 5
}
