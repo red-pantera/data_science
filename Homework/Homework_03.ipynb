{
 "cells": [
  {
   "cell_type": "markdown",
   "id": "f96dbab6",
   "metadata": {},
   "source": [
    "#### Завдання 1\n",
    "    Дано ціле число. Якщо воно додатнє, то помножити його на 2; в іншому випадку не змінювати його.\n",
    "    Вивести кінцеве значення.\n"
   ]
  },
  {
   "cell_type": "code",
   "execution_count": 2,
   "id": "d2054bc6",
   "metadata": {},
   "outputs": [
    {
     "name": "stdout",
     "output_type": "stream",
     "text": [
      "10\n"
     ]
    }
   ],
   "source": [
    "a = 5\n",
    "\n",
    "if a > 0:\n",
    "    a *= 2\n",
    "    \n",
    "print(a)"
   ]
  },
  {
   "cell_type": "markdown",
   "id": "6538d693",
   "metadata": {},
   "source": [
    "#### Завдання 2\n",
    "    Дано два цілих числа. Якщо вони рівні, то присвоїти цим змінним нулі;\n",
    "    в іншому випадку  - кожній змінній присвоїти суму цих значень.\n"
   ]
  },
  {
   "cell_type": "code",
   "execution_count": 9,
   "id": "070374fe",
   "metadata": {},
   "outputs": [
    {
     "name": "stdout",
     "output_type": "stream",
     "text": [
      " a = 9  b = 9\n"
     ]
    }
   ],
   "source": [
    "a = 5\n",
    "b = 4\n",
    "\n",
    "if a == b:\n",
    "    a, b = 0, 0\n",
    "else:\n",
    "    a, b = a+b, a+b\n",
    "print(f' a = {a}  b = {b}')"
   ]
  },
  {
   "cell_type": "markdown",
   "id": "f0d76642",
   "metadata": {},
   "source": [
    "#### Завдання 3\n",
    "    Дано три цілих числа. Знайти суму двох найбільших із них."
   ]
  },
  {
   "cell_type": "code",
   "execution_count": 29,
   "id": "a541f9c1",
   "metadata": {},
   "outputs": [
    {
     "data": {
      "text/plain": [
       "11"
      ]
     },
     "execution_count": 29,
     "metadata": {},
     "output_type": "execute_result"
    }
   ],
   "source": [
    "a = 6\n",
    "b = 4\n",
    "c = 5\n",
    "\n",
    "my_list = [a, b, c]\n",
    "my_list.remove(min(my_list))\n",
    "sum(my_list)"
   ]
  },
  {
   "cell_type": "markdown",
   "id": "93e25470",
   "metadata": {},
   "source": [
    "#### Завдання 4\n",
    "    Дана стрічка. Якщо в цій стрічці відсутня буква \"a\", вивести \"False\".\n",
    "    Якщо буква зустрічається один раз - вивести її індекс.\n",
    "    Якщо більше одного разу - вивести індекс першого та останнього входження.\n"
   ]
  },
  {
   "cell_type": "code",
   "execution_count": 10,
   "id": "61a548b8",
   "metadata": {},
   "outputs": [],
   "source": [
    "string = 'abcd'\n",
    "check_a = 'a' in string"
   ]
  },
  {
   "cell_type": "markdown",
   "id": "5e9cc11f",
   "metadata": {},
   "source": [
    "#### Завдання 5\n",
    "    Дано одне число Price - ціна на 1 кг апельсин. \n",
    "    Вивести вартість 1, 2, ... , 10 кг апельсин."
   ]
  },
  {
   "cell_type": "code",
   "execution_count": 38,
   "id": "96723eef",
   "metadata": {},
   "outputs": [
    {
     "data": {
      "text/plain": [
       "{1: 4, 2: 8, 3: 12, 4: 16, 5: 20, 6: 24, 7: 28, 8: 32, 9: 36, 10: 40}"
      ]
     },
     "execution_count": 38,
     "metadata": {},
     "output_type": "execute_result"
    }
   ],
   "source": [
    "price = 4\n",
    "price_dict = {}\n",
    "\n",
    "for i in range(1, 11):\n",
    "    price_dict[i] = i * price\n",
    "\n",
    "price_dict"
   ]
  },
  {
   "cell_type": "markdown",
   "id": "045801a1",
   "metadata": {},
   "source": [
    "#### Завдання 6\n",
    "    Дано ціле число. Для цього числа виведіть сходинки.\n",
    "    Наприклад, для числа 5 результат наступний:\n",
    "        #\n",
    "        ##\n",
    "        ###\n",
    "        ####\n",
    "        #####"
   ]
  },
  {
   "cell_type": "code",
   "execution_count": 43,
   "id": "ee6418b0",
   "metadata": {},
   "outputs": [
    {
     "name": "stdout",
     "output_type": "stream",
     "text": [
      "#\n",
      "##\n",
      "###\n",
      "####\n",
      "#####\n"
     ]
    }
   ],
   "source": [
    "n = 5\n",
    "\n",
    "for i in range(1, n+1):\n",
    "    print('#' * i)"
   ]
  },
  {
   "cell_type": "markdown",
   "id": "d37fc481",
   "metadata": {},
   "source": [
    "#### Завдання 7\n",
    "    Виведіть суму всіх непарних чисел, що кратні 5, в діапазоні від 0 до 1000."
   ]
  },
  {
   "cell_type": "code",
   "execution_count": 52,
   "id": "12e7bbba",
   "metadata": {},
   "outputs": [
    {
     "data": {
      "text/plain": [
       "50000"
      ]
     },
     "execution_count": 52,
     "metadata": {},
     "output_type": "execute_result"
    }
   ],
   "source": [
    "num_sum = 0\n",
    "for i in range(0, 1000):\n",
    "    if (i % 2 == 1) and (i % 5 == 0):\n",
    "        num_sum += i\n",
    "num_sum"
   ]
  },
  {
   "cell_type": "markdown",
   "id": "628caa8e",
   "metadata": {},
   "source": [
    "#### Завдання 8\n",
    "    На карантині я розпочав бігові тренування. В перший день пробіг 500 метрів.\n",
    "    Кожний наступний день дистанцію збільшую на 10%. Відомо, що карантин триває 30 днів.\n",
    "    \n",
    "        - Яку дистанцію я пробіжу в останній день карантину?\n",
    "        - Скільки днів потрібно бігати, щоб сумарна дистанція за всі дні \n",
    "            перевищила довжину марафону (42 км)?"
   ]
  },
  {
   "cell_type": "code",
   "execution_count": 16,
   "id": "2ae4ee26",
   "metadata": {},
   "outputs": [
    {
     "name": "stdout",
     "output_type": "stream",
     "text": [
      "Сумарна дистанція бігових тенувань за 30 днів: 8724.7 метрів\n",
      "Щоб сумарна дистанція перевищила 42 км (44098.74 метрів) потрібно бігати 48 днів\n"
     ]
    }
   ],
   "source": [
    "distance = 500\n",
    "for i in range(30):\n",
    "    distance = distance * 1.1\n",
    "    \n",
    "days = 1\n",
    "dist_days = 500\n",
    "while dist_days < 42_000:\n",
    "    dist_days *= 1.1\n",
    "    days += 1\n",
    "    \n",
    "print(f'Сумарна дистанція бігових тенувань за 30 днів: {round(distance, 2)} метрів')\n",
    "print(f'Щоб сумарна дистанція перевищила 42 км ({round(dist_days, 2)} метрів) потрібно бігати {days} днів')\n"
   ]
  },
  {
   "cell_type": "markdown",
   "id": "5dffc1e7",
   "metadata": {},
   "source": [
    "#### Завдання 9\n",
    "    Виведіть добуток всіх цілих чисел для послідовності -23, -22, -21, -20, ..., 8, 9, 10, 11, 12"
   ]
  },
  {
   "cell_type": "code",
   "execution_count": 59,
   "id": "2f9b30cb",
   "metadata": {},
   "outputs": [
    {
     "data": {
      "text/plain": [
       "0"
      ]
     },
     "execution_count": 59,
     "metadata": {},
     "output_type": "execute_result"
    }
   ],
   "source": [
    "import math\n",
    "list1 = list(range(-23, 13))\n",
    "result = math.prod(list1)\n",
    "result\n"
   ]
  },
  {
   "cell_type": "markdown",
   "id": "51854a2c",
   "metadata": {},
   "source": [
    "#### Завдання 10*\n",
    "    Вивести N-елементів послідовності чисел Фібоначчі\n",
    "    (Послідовність, де кожен наступний елемент дорівнює сумі двох попередніх;\n",
    "        перший та другий член послідовності дорівнює 1;\n",
    "        Приклад: 1, 1, 2, 3, 5, 8, 13, 21, 34, 55 ...)"
   ]
  },
  {
   "cell_type": "code",
   "execution_count": 79,
   "id": "b92017eb",
   "metadata": {},
   "outputs": [
    {
     "data": {
      "text/plain": [
       "[1, 1, 2, 3]"
      ]
     },
     "execution_count": 79,
     "metadata": {},
     "output_type": "execute_result"
    }
   ],
   "source": [
    "n = 4\n",
    "el, el_next = 1, 1\n",
    "res = [el, el_next]\n",
    "\n",
    "while len(res) != n:\n",
    "    el, el_next = el_next, el+el_next \n",
    "    res.append(el_next)\n",
    "res"
   ]
  },
  {
   "cell_type": "markdown",
   "id": "496b3828",
   "metadata": {},
   "source": [
    "#### Завдання 11*\n",
    "    Перевірити, чи натуральне число N є просте.\n",
    "        (Число називається просте - якщо кількість його дільників становить два:\n",
    "        одиниця і саме число)"
   ]
  },
  {
   "cell_type": "code",
   "execution_count": 105,
   "id": "17197655",
   "metadata": {},
   "outputs": [
    {
     "data": {
      "text/plain": [
       "True"
      ]
     },
     "execution_count": 105,
     "metadata": {},
     "output_type": "execute_result"
    }
   ],
   "source": [
    "a = 13\n",
    "is_prime = all(a % i for i in range(2, a))\n",
    "is_prime"
   ]
  }
 ],
 "metadata": {
  "kernelspec": {
   "display_name": "Python 3",
   "language": "python",
   "name": "python3"
  },
  "language_info": {
   "codemirror_mode": {
    "name": "ipython",
    "version": 3
   },
   "file_extension": ".py",
   "mimetype": "text/x-python",
   "name": "python",
   "nbconvert_exporter": "python",
   "pygments_lexer": "ipython3",
   "version": "3.8.8"
  }
 },
 "nbformat": 4,
 "nbformat_minor": 5
}
