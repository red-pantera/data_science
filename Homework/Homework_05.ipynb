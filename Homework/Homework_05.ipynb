{
 "cells": [
  {
   "cell_type": "markdown",
   "id": "6243b0f0",
   "metadata": {},
   "source": [
    "#### Завдання 1\n",
    "\n",
    "\tКористувач вводить назву файлу(стрічка). Якщо назва допустима, то створіть пустий файл з цією назвою.\n",
    "\tЯкщо ні - виведіть повідомлення \"Назва недопустима\"\n",
    "\t(використайте обробку помилок try-except)\n"
   ]
  },
  {
   "cell_type": "code",
   "execution_count": 5,
   "id": "f1a13e48",
   "metadata": {},
   "outputs": [
    {
     "name": "stdout",
     "output_type": "stream",
     "text": [
      "Назва файлу: ????\n",
      "Назва недопустима\n"
     ]
    }
   ],
   "source": [
    "filename = input('Назва файлу: ') \n",
    "try:\n",
    "    f = open(filename, 'w')\n",
    "    f.close()\n",
    "except OSError :\n",
    "    print(\"Назва недопустима\")\n"
   ]
  },
  {
   "cell_type": "markdown",
   "id": "f3233e85",
   "metadata": {},
   "source": [
    "#### Завдання 2\n",
    "\t\n",
    "    Дано два цілих числа N, K\n",
    "\tСтворіть текстовий файл. Запишіть у нього N рядків, кожна із яких складається із K символів \"*\" (зірочка)\n"
   ]
  },
  {
   "cell_type": "code",
   "execution_count": 46,
   "id": "6f0e9c13",
   "metadata": {},
   "outputs": [
    {
     "name": "stdout",
     "output_type": "stream",
     "text": [
      "Кількість рядків: 5\n",
      "Кількість символів: 10\n"
     ]
    }
   ],
   "source": [
    "N = int(input('Кількість рядків: '))\n",
    "K = int(input('Кількість символів: '))\n",
    "\n",
    "with open('task_2.txt', 'w') as f:\n",
    "    for i in range(N):\n",
    "        f.write('*' * K + '\\n')"
   ]
  },
  {
   "cell_type": "code",
   "execution_count": 47,
   "id": "4cc24847",
   "metadata": {},
   "outputs": [
    {
     "name": "stdout",
     "output_type": "stream",
     "text": [
      "**********\n",
      "\n",
      "**********\n",
      "\n",
      "**********\n",
      "\n",
      "**********\n",
      "\n",
      "**********\n",
      "\n"
     ]
    }
   ],
   "source": [
    "with open('task_2.txt', 'r') as f:\n",
    "    l = f.readlines()\n",
    "    for line in l:\n",
    "        print(line)"
   ]
  },
  {
   "cell_type": "markdown",
   "id": "ad49e494",
   "metadata": {},
   "source": [
    "#### Завдання 3\n",
    "\t\n",
    "    У вас є файл із текстом.\n",
    "\tВидаліть перший рядок із файлу."
   ]
  },
  {
   "cell_type": "code",
   "execution_count": 17,
   "id": "17e46dac",
   "metadata": {},
   "outputs": [],
   "source": [
    "# Створити новий файл task 3\n",
    "with open('task_3.txt', 'w') as f:\n",
    "    for i in range(1, 10):\n",
    "        f.write('*' * i + '\\n')"
   ]
  },
  {
   "cell_type": "code",
   "execution_count": 18,
   "id": "4369e4d4",
   "metadata": {},
   "outputs": [],
   "source": [
    "with open('task_3.txt') as f:\n",
    "    data = f.readlines()"
   ]
  },
  {
   "cell_type": "code",
   "execution_count": 20,
   "id": "fa004d28",
   "metadata": {},
   "outputs": [],
   "source": [
    "with open('task_3.txt', 'w') as f:\n",
    "    f.writelines(data[1:])"
   ]
  },
  {
   "cell_type": "code",
   "execution_count": 21,
   "id": "d78c2970",
   "metadata": {},
   "outputs": [
    {
     "name": "stdout",
     "output_type": "stream",
     "text": [
      "**\n",
      "\n",
      "***\n",
      "\n",
      "****\n",
      "\n",
      "*****\n",
      "\n",
      "******\n",
      "\n",
      "*******\n",
      "\n",
      "********\n",
      "\n",
      "*********\n",
      "\n"
     ]
    }
   ],
   "source": [
    "with open('task_3.txt', 'r') as f:\n",
    "    l = f.readlines()\n",
    "    for line in l:\n",
    "        print(line)"
   ]
  },
  {
   "cell_type": "markdown",
   "id": "25d70d66",
   "metadata": {},
   "source": [
    "#### Завдання 4\n",
    "\t\n",
    "    У вас є файл із текстом.\n",
    "\tУ кожному рядку даного файлу видаліть K(натуральне число) символів.\n"
   ]
  },
  {
   "cell_type": "code",
   "execution_count": 48,
   "id": "d9e91f76",
   "metadata": {},
   "outputs": [
    {
     "name": "stdout",
     "output_type": "stream",
     "text": [
      "Кількість символів, які потрібно видалити: 8\n"
     ]
    }
   ],
   "source": [
    "K = int(input('Кількість символів, які потрібно видалити: '))\n",
    "\n",
    "with open('task_2.txt', 'r') as f:\n",
    "    lines = f.readlines()"
   ]
  },
  {
   "cell_type": "code",
   "execution_count": 51,
   "id": "d171f61f",
   "metadata": {},
   "outputs": [],
   "source": [
    "with open('task_4.txt', 'w') as f:\n",
    "    for line in lines:\n",
    "        f.write(line[:-K-1]+'\\n')"
   ]
  },
  {
   "cell_type": "code",
   "execution_count": 52,
   "id": "a911331a",
   "metadata": {},
   "outputs": [
    {
     "name": "stdout",
     "output_type": "stream",
     "text": [
      "**\n",
      "\n",
      "**\n",
      "\n",
      "**\n",
      "\n",
      "**\n",
      "\n",
      "**\n",
      "\n"
     ]
    }
   ],
   "source": [
    "with open('task_4.txt', 'r') as f:\n",
    "    l = f.readlines()\n",
    "    for line in l:\n",
    "        print(line)"
   ]
  },
  {
   "cell_type": "markdown",
   "id": "f0fd95b6",
   "metadata": {},
   "source": [
    "#### Завдання 5\n",
    "\t\n",
    "    Напишіть інструкції, що викликають наступні помилки:\n",
    "    - SyntaxError\n",
    "    - IndentationError\n",
    "\t- NameError\n",
    "\t- IndexError\n",
    "\t- KeyError\n",
    "\t- ImportError\n",
    "\t- AttirbuteError\n",
    "\t- ZeroDivisionError\n",
    "\t- RuntimeError"
   ]
  },
  {
   "cell_type": "markdown",
   "id": "e6dba683",
   "metadata": {},
   "source": [
    "**SyntaxError**"
   ]
  },
  {
   "cell_type": "code",
   "execution_count": 54,
   "id": "b8956d8b",
   "metadata": {},
   "outputs": [
    {
     "ename": "SyntaxError",
     "evalue": "cannot assign to function call (<ipython-input-54-ad75fa483f75>, line 1)",
     "output_type": "error",
     "traceback": [
      "\u001b[1;36m  File \u001b[1;32m\"<ipython-input-54-ad75fa483f75>\"\u001b[1;36m, line \u001b[1;32m1\u001b[0m\n\u001b[1;33m    len('Hello') = 5\u001b[0m\n\u001b[1;37m    ^\u001b[0m\n\u001b[1;31mSyntaxError\u001b[0m\u001b[1;31m:\u001b[0m cannot assign to function call\n"
     ]
    }
   ],
   "source": [
    "len('Hello') = 5"
   ]
  },
  {
   "cell_type": "code",
   "execution_count": 55,
   "id": "264c005d",
   "metadata": {},
   "outputs": [
    {
     "ename": "SyntaxError",
     "evalue": "cannot assign to literal (<ipython-input-55-667480b6e489>, line 1)",
     "output_type": "error",
     "traceback": [
      "\u001b[1;36m  File \u001b[1;32m\"<ipython-input-55-667480b6e489>\"\u001b[1;36m, line \u001b[1;32m1\u001b[0m\n\u001b[1;33m    4 = 5\u001b[0m\n\u001b[1;37m    ^\u001b[0m\n\u001b[1;31mSyntaxError\u001b[0m\u001b[1;31m:\u001b[0m cannot assign to literal\n"
     ]
    }
   ],
   "source": [
    "4 = 5"
   ]
  },
  {
   "cell_type": "markdown",
   "id": "6ed88a68",
   "metadata": {},
   "source": [
    "**IndentationError**"
   ]
  },
  {
   "cell_type": "code",
   "execution_count": 59,
   "id": "2e43a164",
   "metadata": {},
   "outputs": [
    {
     "ename": "IndentationError",
     "evalue": "expected an indented block (<ipython-input-59-b81503c53c73>, line 3)",
     "output_type": "error",
     "traceback": [
      "\u001b[1;36m  File \u001b[1;32m\"<ipython-input-59-b81503c53c73>\"\u001b[1;36m, line \u001b[1;32m3\u001b[0m\n\u001b[1;33m    print('4 is in array')\u001b[0m\n\u001b[1;37m    ^\u001b[0m\n\u001b[1;31mIndentationError\u001b[0m\u001b[1;31m:\u001b[0m expected an indented block\n"
     ]
    }
   ],
   "source": [
    "arr = [1, 2, 3]\n",
    "if 4 in arr:\n",
    "print('4 is in array')"
   ]
  },
  {
   "cell_type": "markdown",
   "id": "9f2c8606",
   "metadata": {},
   "source": [
    "**NameError**"
   ]
  },
  {
   "cell_type": "code",
   "execution_count": 61,
   "id": "2259c153",
   "metadata": {},
   "outputs": [
    {
     "ename": "NameError",
     "evalue": "name 'name' is not defined",
     "output_type": "error",
     "traceback": [
      "\u001b[1;31m---------------------------------------------------------------------------\u001b[0m",
      "\u001b[1;31mNameError\u001b[0m                                 Traceback (most recent call last)",
      "\u001b[1;32m<ipython-input-61-419120321c26>\u001b[0m in \u001b[0;36m<module>\u001b[1;34m\u001b[0m\n\u001b[1;32m----> 1\u001b[1;33m \u001b[0mname\u001b[0m \u001b[1;33m==\u001b[0m \u001b[1;34m'Jil'\u001b[0m\u001b[1;33m\u001b[0m\u001b[1;33m\u001b[0m\u001b[0m\n\u001b[0m",
      "\u001b[1;31mNameError\u001b[0m: name 'name' is not defined"
     ]
    }
   ],
   "source": [
    "name == 'Jil'"
   ]
  },
  {
   "cell_type": "code",
   "execution_count": 62,
   "id": "7c14d079",
   "metadata": {},
   "outputs": [
    {
     "ename": "NameError",
     "evalue": "name 'my_array' is not defined",
     "output_type": "error",
     "traceback": [
      "\u001b[1;31m---------------------------------------------------------------------------\u001b[0m",
      "\u001b[1;31mNameError\u001b[0m                                 Traceback (most recent call last)",
      "\u001b[1;32m<ipython-input-62-3b65314e3da5>\u001b[0m in \u001b[0;36m<module>\u001b[1;34m\u001b[0m\n\u001b[1;32m----> 1\u001b[1;33m \u001b[1;32mfor\u001b[0m \u001b[0mi\u001b[0m \u001b[1;32min\u001b[0m \u001b[0mrange\u001b[0m\u001b[1;33m(\u001b[0m\u001b[0mmy_array\u001b[0m\u001b[1;33m)\u001b[0m\u001b[1;33m:\u001b[0m\u001b[1;33m\u001b[0m\u001b[1;33m\u001b[0m\u001b[0m\n\u001b[0m\u001b[0;32m      2\u001b[0m     \u001b[0mprint\u001b[0m\u001b[1;33m(\u001b[0m\u001b[0mi\u001b[0m\u001b[1;33m)\u001b[0m\u001b[1;33m\u001b[0m\u001b[1;33m\u001b[0m\u001b[0m\n",
      "\u001b[1;31mNameError\u001b[0m: name 'my_array' is not defined"
     ]
    }
   ],
   "source": [
    "for i in range(my_array):\n",
    "    print(i)"
   ]
  },
  {
   "cell_type": "markdown",
   "id": "5993ac5c",
   "metadata": {},
   "source": [
    "**IndexError**"
   ]
  },
  {
   "cell_type": "code",
   "execution_count": 65,
   "id": "cf7fbba2",
   "metadata": {},
   "outputs": [
    {
     "ename": "IndexError",
     "evalue": "list index out of range",
     "output_type": "error",
     "traceback": [
      "\u001b[1;31m---------------------------------------------------------------------------\u001b[0m",
      "\u001b[1;31mIndexError\u001b[0m                                Traceback (most recent call last)",
      "\u001b[1;32m<ipython-input-65-ec29446a5a88>\u001b[0m in \u001b[0;36m<module>\u001b[1;34m\u001b[0m\n\u001b[0;32m      1\u001b[0m \u001b[0marr\u001b[0m \u001b[1;33m=\u001b[0m \u001b[1;33m[\u001b[0m\u001b[1;36m1\u001b[0m\u001b[1;33m,\u001b[0m \u001b[1;36m2\u001b[0m\u001b[1;33m,\u001b[0m \u001b[1;36m3\u001b[0m\u001b[1;33m]\u001b[0m\u001b[1;33m\u001b[0m\u001b[1;33m\u001b[0m\u001b[0m\n\u001b[1;32m----> 2\u001b[1;33m \u001b[0marr\u001b[0m\u001b[1;33m[\u001b[0m\u001b[1;36m4\u001b[0m\u001b[1;33m]\u001b[0m\u001b[1;33m\u001b[0m\u001b[1;33m\u001b[0m\u001b[0m\n\u001b[0m",
      "\u001b[1;31mIndexError\u001b[0m: list index out of range"
     ]
    }
   ],
   "source": [
    "arr = [1, 2, 3]\n",
    "arr[4]"
   ]
  },
  {
   "cell_type": "markdown",
   "id": "09ff584d",
   "metadata": {},
   "source": [
    "**KeyError**"
   ]
  },
  {
   "cell_type": "code",
   "execution_count": 69,
   "id": "fa038c32",
   "metadata": {},
   "outputs": [
    {
     "ename": "KeyError",
     "evalue": "'4'",
     "output_type": "error",
     "traceback": [
      "\u001b[1;31m---------------------------------------------------------------------------\u001b[0m",
      "\u001b[1;31mKeyError\u001b[0m                                  Traceback (most recent call last)",
      "\u001b[1;32m<ipython-input-69-8fd41bc60fe2>\u001b[0m in \u001b[0;36m<module>\u001b[1;34m\u001b[0m\n\u001b[0;32m      5\u001b[0m }\n\u001b[0;32m      6\u001b[0m \u001b[1;33m\u001b[0m\u001b[0m\n\u001b[1;32m----> 7\u001b[1;33m \u001b[0mmy_dict\u001b[0m\u001b[1;33m[\u001b[0m\u001b[1;34m'4'\u001b[0m\u001b[1;33m]\u001b[0m\u001b[1;33m\u001b[0m\u001b[1;33m\u001b[0m\u001b[0m\n\u001b[0m",
      "\u001b[1;31mKeyError\u001b[0m: '4'"
     ]
    }
   ],
   "source": [
    "my_dict = {\n",
    "    '1': 'one',\n",
    "    '2': 'two',\n",
    "    '3': 'three'\n",
    "}\n",
    "\n",
    "my_dict['4']"
   ]
  },
  {
   "cell_type": "markdown",
   "id": "cc711508",
   "metadata": {},
   "source": [
    "**ImportError**"
   ]
  },
  {
   "cell_type": "code",
   "execution_count": 74,
   "id": "8c83b362",
   "metadata": {},
   "outputs": [
    {
     "ename": "ImportError",
     "evalue": "cannot import name 'char' from 'math' (unknown location)",
     "output_type": "error",
     "traceback": [
      "\u001b[1;31m---------------------------------------------------------------------------\u001b[0m",
      "\u001b[1;31mImportError\u001b[0m                               Traceback (most recent call last)",
      "\u001b[1;32m<ipython-input-74-736fe8f8faa8>\u001b[0m in \u001b[0;36m<module>\u001b[1;34m\u001b[0m\n\u001b[1;32m----> 1\u001b[1;33m \u001b[1;32mfrom\u001b[0m \u001b[0mmath\u001b[0m \u001b[1;32mimport\u001b[0m \u001b[0mchar\u001b[0m\u001b[1;33m\u001b[0m\u001b[1;33m\u001b[0m\u001b[0m\n\u001b[0m",
      "\u001b[1;31mImportError\u001b[0m: cannot import name 'char' from 'math' (unknown location)"
     ]
    }
   ],
   "source": [
    "from math import char\n"
   ]
  },
  {
   "cell_type": "markdown",
   "id": "9f53a27a",
   "metadata": {},
   "source": [
    "**AttributeError**"
   ]
  },
  {
   "cell_type": "code",
   "execution_count": 83,
   "id": "03b7f219",
   "metadata": {},
   "outputs": [
    {
     "ename": "AttributeError",
     "evalue": "'int' object has no attribute 'append'",
     "output_type": "error",
     "traceback": [
      "\u001b[1;31m---------------------------------------------------------------------------\u001b[0m",
      "\u001b[1;31mAttributeError\u001b[0m                            Traceback (most recent call last)",
      "\u001b[1;32m<ipython-input-83-95ac219b9330>\u001b[0m in \u001b[0;36m<module>\u001b[1;34m\u001b[0m\n\u001b[0;32m      1\u001b[0m \u001b[0mx\u001b[0m \u001b[1;33m=\u001b[0m \u001b[1;36m5\u001b[0m\u001b[1;33m\u001b[0m\u001b[1;33m\u001b[0m\u001b[0m\n\u001b[1;32m----> 2\u001b[1;33m \u001b[0mx\u001b[0m\u001b[1;33m.\u001b[0m\u001b[0mappend\u001b[0m\u001b[1;33m(\u001b[0m\u001b[1;36m4\u001b[0m\u001b[1;33m)\u001b[0m\u001b[1;33m\u001b[0m\u001b[1;33m\u001b[0m\u001b[0m\n\u001b[0m",
      "\u001b[1;31mAttributeError\u001b[0m: 'int' object has no attribute 'append'"
     ]
    }
   ],
   "source": [
    "x = 5\n",
    "x.append(4)"
   ]
  },
  {
   "cell_type": "markdown",
   "id": "775ffc5c",
   "metadata": {},
   "source": [
    "**ZeroDivisionError**"
   ]
  },
  {
   "cell_type": "code",
   "execution_count": 84,
   "id": "3a7cc543",
   "metadata": {},
   "outputs": [
    {
     "ename": "ZeroDivisionError",
     "evalue": "division by zero",
     "output_type": "error",
     "traceback": [
      "\u001b[1;31m---------------------------------------------------------------------------\u001b[0m",
      "\u001b[1;31mZeroDivisionError\u001b[0m                         Traceback (most recent call last)",
      "\u001b[1;32m<ipython-input-84-31ecf84cc153>\u001b[0m in \u001b[0;36m<module>\u001b[1;34m\u001b[0m\n\u001b[1;32m----> 1\u001b[1;33m \u001b[0mres\u001b[0m \u001b[1;33m=\u001b[0m \u001b[1;36m1\u001b[0m\u001b[1;33m/\u001b[0m\u001b[1;36m0\u001b[0m\u001b[1;33m\u001b[0m\u001b[1;33m\u001b[0m\u001b[0m\n\u001b[0m",
      "\u001b[1;31mZeroDivisionError\u001b[0m: division by zero"
     ]
    }
   ],
   "source": [
    "res = 1/0"
   ]
  },
  {
   "cell_type": "markdown",
   "id": "5776b23b",
   "metadata": {},
   "source": [
    "**RuntimeError**"
   ]
  },
  {
   "cell_type": "code",
   "execution_count": 111,
   "id": "8a97c3ca",
   "metadata": {},
   "outputs": [],
   "source": [
    "?RuntimeError"
   ]
  },
  {
   "cell_type": "code",
   "execution_count": 96,
   "id": "d74ad925",
   "metadata": {},
   "outputs": [
    {
     "ename": "RecursionError",
     "evalue": "maximum recursion depth exceeded",
     "output_type": "error",
     "traceback": [
      "\u001b[1;31m---------------------------------------------------------------------------\u001b[0m",
      "\u001b[1;31mRecursionError\u001b[0m                            Traceback (most recent call last)",
      "\u001b[1;32m<ipython-input-96-97351adf8bfb>\u001b[0m in \u001b[0;36m<module>\u001b[1;34m\u001b[0m\n\u001b[0;32m      2\u001b[0m     \u001b[1;32mreturn\u001b[0m \u001b[1;33m(\u001b[0m\u001b[0mrecursion\u001b[0m\u001b[1;33m(\u001b[0m\u001b[1;33m)\u001b[0m\u001b[1;33m)\u001b[0m\u001b[1;33m\u001b[0m\u001b[1;33m\u001b[0m\u001b[0m\n\u001b[0;32m      3\u001b[0m \u001b[1;33m\u001b[0m\u001b[0m\n\u001b[1;32m----> 4\u001b[1;33m \u001b[0mrecursion\u001b[0m\u001b[1;33m(\u001b[0m\u001b[1;33m)\u001b[0m\u001b[1;33m\u001b[0m\u001b[1;33m\u001b[0m\u001b[0m\n\u001b[0m",
      "\u001b[1;32m<ipython-input-96-97351adf8bfb>\u001b[0m in \u001b[0;36mrecursion\u001b[1;34m()\u001b[0m\n\u001b[0;32m      1\u001b[0m \u001b[1;32mdef\u001b[0m \u001b[0mrecursion\u001b[0m\u001b[1;33m(\u001b[0m\u001b[1;33m)\u001b[0m\u001b[1;33m:\u001b[0m\u001b[1;33m\u001b[0m\u001b[1;33m\u001b[0m\u001b[0m\n\u001b[1;32m----> 2\u001b[1;33m     \u001b[1;32mreturn\u001b[0m \u001b[1;33m(\u001b[0m\u001b[0mrecursion\u001b[0m\u001b[1;33m(\u001b[0m\u001b[1;33m)\u001b[0m\u001b[1;33m)\u001b[0m\u001b[1;33m\u001b[0m\u001b[1;33m\u001b[0m\u001b[0m\n\u001b[0m\u001b[0;32m      3\u001b[0m \u001b[1;33m\u001b[0m\u001b[0m\n\u001b[0;32m      4\u001b[0m \u001b[0mrecursion\u001b[0m\u001b[1;33m(\u001b[0m\u001b[1;33m)\u001b[0m\u001b[1;33m\u001b[0m\u001b[1;33m\u001b[0m\u001b[0m\n",
      "... last 1 frames repeated, from the frame below ...\n",
      "\u001b[1;32m<ipython-input-96-97351adf8bfb>\u001b[0m in \u001b[0;36mrecursion\u001b[1;34m()\u001b[0m\n\u001b[0;32m      1\u001b[0m \u001b[1;32mdef\u001b[0m \u001b[0mrecursion\u001b[0m\u001b[1;33m(\u001b[0m\u001b[1;33m)\u001b[0m\u001b[1;33m:\u001b[0m\u001b[1;33m\u001b[0m\u001b[1;33m\u001b[0m\u001b[0m\n\u001b[1;32m----> 2\u001b[1;33m     \u001b[1;32mreturn\u001b[0m \u001b[1;33m(\u001b[0m\u001b[0mrecursion\u001b[0m\u001b[1;33m(\u001b[0m\u001b[1;33m)\u001b[0m\u001b[1;33m)\u001b[0m\u001b[1;33m\u001b[0m\u001b[1;33m\u001b[0m\u001b[0m\n\u001b[0m\u001b[0;32m      3\u001b[0m \u001b[1;33m\u001b[0m\u001b[0m\n\u001b[0;32m      4\u001b[0m \u001b[0mrecursion\u001b[0m\u001b[1;33m(\u001b[0m\u001b[1;33m)\u001b[0m\u001b[1;33m\u001b[0m\u001b[1;33m\u001b[0m\u001b[0m\n",
      "\u001b[1;31mRecursionError\u001b[0m: maximum recursion depth exceeded"
     ]
    }
   ],
   "source": [
    "def recursion():\n",
    "    return recursion()\n",
    "\n",
    "recursion()"
   ]
  }
 ],
 "metadata": {
  "kernelspec": {
   "display_name": "Python 3",
   "language": "python",
   "name": "python3"
  },
  "language_info": {
   "codemirror_mode": {
    "name": "ipython",
    "version": 3
   },
   "file_extension": ".py",
   "mimetype": "text/x-python",
   "name": "python",
   "nbconvert_exporter": "python",
   "pygments_lexer": "ipython3",
   "version": "3.8.8"
  }
 },
 "nbformat": 4,
 "nbformat_minor": 5
}
