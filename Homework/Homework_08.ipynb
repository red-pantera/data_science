{
 "cells": [
  {
   "cell_type": "markdown",
   "id": "68ee750f",
   "metadata": {},
   "source": [
    "#### Завдання 1\n",
    "\n",
    "Зробіть рефакторинг наступної програми (тобто використайте list comprehension і елементи функціонального програмування (map, filter)) \n",
    "\n",
    "```python\n",
    "import random\n",
    "\n",
    "list_with_numbers = list(range(10))\n",
    "new_list = []\n",
    "\n",
    "for i in list_with_numbers:\n",
    "    if not i%2:\n",
    "        new_list.append(i + random.random())\n",
    "  \n",
    "print(new_list)\n",
    "```"
   ]
  },
  {
   "cell_type": "code",
   "execution_count": 26,
   "id": "ea2575d9",
   "metadata": {},
   "outputs": [
    {
     "name": "stdout",
     "output_type": "stream",
     "text": [
      "[0.8821698969884747, 2.5122290829801557, 4.135814241275852, 6.53305511515452, 8.33571903128273]\n"
     ]
    }
   ],
   "source": [
    "import random\n",
    "\n",
    "list_with_numbers = list(range(10))\n",
    "new_list = list(map(lambda i: i + random.random(), \n",
    "                    filter(lambda i: i % 2 == 0, list_with_numbers)))\n",
    "\n",
    "print(new_list)"
   ]
  },
  {
   "cell_type": "markdown",
   "id": "e995377e",
   "metadata": {},
   "source": [
    "#### Завдання 2\n",
    "\n",
    "Зробіть рефакторинг наступної програми (тобто використайте list comprehension і елементи функціонального програмування (map, filter)) \n",
    "\n",
    "```python\n",
    "import string\n",
    "\n",
    "sentence = \"I am @ Python @  senior ^ pomidor\"\n",
    "\n",
    "list_with_words = sentence.split()\n",
    "new_list = []\n",
    "\n",
    "for word in list_with_words:\n",
    "    if not word in string.punctuation:\n",
    "        new_list.append(word)\n",
    "\n",
    "print(new_list)\n",
    "```"
   ]
  },
  {
   "cell_type": "code",
   "execution_count": 32,
   "id": "90cdb594",
   "metadata": {},
   "outputs": [
    {
     "name": "stdout",
     "output_type": "stream",
     "text": [
      "['I', 'am', 'Python', 'senior', 'pomidor']\n"
     ]
    }
   ],
   "source": [
    "import string\n",
    "\n",
    "sentence = \"I am @ Python @  senior ^ pomidor\"\n",
    "\n",
    "new_list = list(filter(lambda w: w not in string.punctuation, sentence.split()))\n",
    "print(new_list)"
   ]
  },
  {
   "cell_type": "markdown",
   "id": "edfd0750",
   "metadata": {},
   "source": [
    "#### Завдання 3\n",
    "\n",
    "Дано деякий список [(1,1,1), (1,2,3), (-1,-1,7), (-3,-2,8), (0,0,0), (3,-4,-5)]\n",
    "- відсортуйте даний список по сумі кортежів\n",
    "- відсортуйте даний список по третіх елементах з кортежів\n"
   ]
  },
  {
   "cell_type": "code",
   "execution_count": 40,
   "id": "edbb3d8a",
   "metadata": {},
   "outputs": [
    {
     "name": "stdout",
     "output_type": "stream",
     "text": [
      "Посортований список за сумою кортежів [(3, -4, -5), (0, 0, 0), (1, 1, 1), (-3, -2, 8), (-1, -1, 7), (1, 2, 3)]\n",
      "Посортований список за третім елементом [(3, -4, -5), (0, 0, 0), (1, 1, 1), (1, 2, 3), (-1, -1, 7), (-3, -2, 8)]\n"
     ]
    }
   ],
   "source": [
    "list_with_tuples = [(1,1,1), (1,2,3), (-1,-1,7), (-3,-2,8), (0,0,0), (3,-4,-5)]\n",
    "\n",
    "sort_sum = sorted(list_with_tuples, key = lambda el: sum(el))\n",
    "sort_3rd_el = sorted(list_with_tuples, key = lambda el: el[2])\n",
    "\n",
    "print(f'Посортований список за сумою кортежів {sort_sum}')\n",
    "print(f'Посортований список за третім елементом {sort_3rd_el}')"
   ]
  },
  {
   "cell_type": "markdown",
   "id": "0b40be93",
   "metadata": {},
   "source": [
    "#### Завдання 4\n",
    "\n",
    "Дано словник {'b':3, 'c':2, 'a':4, 'd':1}\n",
    "- виведіть ключі даного словника в алфавітному порядку\n",
    "- виведіть ключі даного словника в порядку спадання по значеннях \n"
   ]
  },
  {
   "cell_type": "code",
   "execution_count": 69,
   "id": "da03e534",
   "metadata": {},
   "outputs": [
    {
     "name": "stdout",
     "output_type": "stream",
     "text": [
      "[('a', 4), ('b', 3), ('c', 2), ('d', 1)]\n",
      "['a', 'b', 'c', 'd']\n"
     ]
    }
   ],
   "source": [
    "my_dict = {'b':3, 'c':2, 'a':4, 'd':1}\n",
    "\n",
    "sort_keys_alp = sorted(my_dict.items())\n",
    "sort_keys_desc = sorted(my_dict, key = lambda k: my_dict[k], reverse = True )\n",
    "\n",
    "print(sort_keys_alp)\n",
    "print(sort_keys_desc)"
   ]
  },
  {
   "cell_type": "markdown",
   "id": "b19238d7",
   "metadata": {},
   "source": [
    "#### Завдання 5\n",
    "\n",
    "Напишіть функцію-генератор яка буде повертати літери алфавіту. \n",
    "(Щоб отримати алфавіт - використайте ascii_lowercase в бібліотеці string)\n"
   ]
  },
  {
   "cell_type": "code",
   "execution_count": 93,
   "id": "5c870b5f",
   "metadata": {},
   "outputs": [],
   "source": [
    "def alphabet():\n",
    "    alphabet_str = list(string.ascii_lowercase)\n",
    "    for i in range(len(alphabet_str)):\n",
    "        yield alphabet_str[i]\n",
    "\n"
   ]
  },
  {
   "cell_type": "code",
   "execution_count": 94,
   "id": "ce707e34",
   "metadata": {},
   "outputs": [],
   "source": [
    "a = alphabet()"
   ]
  },
  {
   "cell_type": "code",
   "execution_count": 103,
   "id": "c6fa1d1f",
   "metadata": {},
   "outputs": [
    {
     "data": {
      "text/plain": [
       "'i'"
      ]
     },
     "execution_count": 103,
     "metadata": {},
     "output_type": "execute_result"
    }
   ],
   "source": [
    "a.__next__()"
   ]
  }
 ],
 "metadata": {
  "kernelspec": {
   "display_name": "Python 3",
   "language": "python",
   "name": "python3"
  },
  "language_info": {
   "codemirror_mode": {
    "name": "ipython",
    "version": 3
   },
   "file_extension": ".py",
   "mimetype": "text/x-python",
   "name": "python",
   "nbconvert_exporter": "python",
   "pygments_lexer": "ipython3",
   "version": "3.8.8"
  }
 },
 "nbformat": 4,
 "nbformat_minor": 5
}
