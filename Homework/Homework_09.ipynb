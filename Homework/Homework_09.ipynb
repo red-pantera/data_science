{
 "cells": [
  {
   "cell_type": "markdown",
   "id": "5a7ed63a",
   "metadata": {},
   "source": [
    "#### Завдання 1\n",
    "\n",
    "Створіть базу даних, що складається з таких таблиць:\n",
    "\n",
    "    1. Таблиця \"football_players\"\n",
    "        - ID (унікальний номер гравця)\n",
    "        - First_name (ім'я гравця)\n",
    "        - Second_name (прізвище гравця)\n",
    "        - Birthday (дата народження)\n",
    "\n",
    "    2. Таблиця \"football teams\"\n",
    "        - Name (ім'я футбольного клубу)\n",
    "        - City \n",
    "\n",
    "    3. Таблиця \"player_in_team\"\n",
    "        - Player ID (унікальний номер гравця, з таблиці \"football_players\")\n",
    "        - Team name (ім'я клубу, з таблиці \"football teams\")\n",
    "        - Start_date (дата, коли гравець вступив у клуб)\n",
    "\n",
    "    Напишіть програму, що дасть можливість вводити дані."
   ]
  },
  {
   "cell_type": "code",
   "execution_count": 28,
   "id": "bc83b740",
   "metadata": {},
   "outputs": [],
   "source": [
    "import sqlite3\n",
    "\n",
    "conn = sqlite3.connect('football.sqlite3')\n",
    "curs = conn.cursor()\n",
    "curs.execute(\"CREATE TABLE football_players (id INTEGER, first_name TEXT, second_name TEXT, birthday DATE)\")\n",
    "curs.execute(\"CREATE TABLE football_teams(name TEXT, city TEXT)\")\n",
    "curs.execute(\"CREATE TABLE player_in_team (player_id INT, team_name TEXT, start_date DATE, FOREIGN KEY (player_ID) REFERENCES football_players (id))\")\n",
    "conn.commit()"
   ]
  },
  {
   "cell_type": "code",
   "execution_count": 144,
   "id": "8eda1f8d",
   "metadata": {},
   "outputs": [
    {
     "name": "stdout",
     "output_type": "stream",
     "text": [
      "id 16\n",
      "first_name John\n",
      "second_name Snow\n",
      "birthday 1999-08-08\n"
     ]
    }
   ],
   "source": [
    "def create_football_player(conn, football_player):\n",
    "    \"\"\"\n",
    "    Create a new football player into the football_players table\n",
    "    \"\"\"\n",
    "    sql = ''' INSERT INTO football_players(id, first_name, second_name, birthday )\n",
    "              VALUES(?,?,?,?) '''\n",
    "    cursor = conn.cursor()\n",
    "    cursor.execute(sql, football_player)\n",
    "    conn.commit()\n",
    "    return cursor.lastrowid\n",
    "\n",
    "football_player = (input('id '), input('first_name '), input('second_name '), input('birthday '))\n",
    "football_player_id = create_football_player(conn, football_player)\n",
    "conn.commit()"
   ]
  },
  {
   "cell_type": "code",
   "execution_count": 53,
   "id": "58d0b0a1",
   "metadata": {},
   "outputs": [
    {
     "name": "stdout",
     "output_type": "stream",
     "text": [
      "name Bears\n",
      "city Chicago\n"
     ]
    }
   ],
   "source": [
    "def create_football_team(conn, football_team):\n",
    "    \"\"\"\n",
    "    Create a new football team into the football_teams table\n",
    "    \"\"\"\n",
    "    sql = ''' INSERT INTO football_teams(name, city)\n",
    "              VALUES(?,?) '''\n",
    "    cursor = conn.cursor()\n",
    "    cursor.execute(sql, football_team)\n",
    "    conn.commit()\n",
    "    return cursor.lastrowid\n",
    "\n",
    "football_team = (input('name '), input('city '))\n",
    "football_team_id = create_football_team(conn, football_team)\n",
    "conn.commit()"
   ]
  },
  {
   "cell_type": "code",
   "execution_count": 145,
   "id": "20bbddbf",
   "metadata": {},
   "outputs": [
    {
     "name": "stdout",
     "output_type": "stream",
     "text": [
      "player_id 16\n",
      "team_name Bears\n",
      "start_date 2021-02-18\n"
     ]
    }
   ],
   "source": [
    "def create_player_in_team(conn, player_team):\n",
    "    \"\"\"\n",
    "    Create a new player in team into the player_in_team table\n",
    "    \"\"\"\n",
    "    sql = ''' INSERT INTO player_in_team(player_id, team_name, start_date)\n",
    "              VALUES(?,?,?) '''\n",
    "    cursor = conn.cursor()\n",
    "    cursor.execute(sql, player_team)\n",
    "    conn.commit()\n",
    "    return cursor.lastrowid\n",
    "\n",
    "player_team = (input('player_id '), input('team_name '), input('start_date '))\n",
    "player_team_id = create_player_in_team(conn, player_team)\n",
    "conn.commit()"
   ]
  },
  {
   "cell_type": "markdown",
   "id": "43be8c4e",
   "metadata": {},
   "source": [
    "#### Завдання 2 \n",
    "    За заданою назвою футбольної команди, виведіть всіх її гравців. "
   ]
  },
  {
   "cell_type": "code",
   "execution_count": 146,
   "id": "cfa981ec",
   "metadata": {},
   "outputs": [
    {
     "name": "stdout",
     "output_type": "stream",
     "text": [
      "Bears - Aron Kenly\n",
      "Bears - John Freeman\n",
      "Bears - Sem Black\n",
      "Bears - Rob Flask\n",
      "Bears - Hordon Ramsey\n",
      "Bears - Samuel Vens\n",
      "Bears - John Snow\n",
      "Dogs - John Bell\n",
      "Dogs - Derek Berkley\n",
      "Dogs - Henry Albo\n",
      "Dogs - Antony Clark\n",
      "Red Dragons - Frank Li\n",
      "Red Dragons - Robert Aniston\n",
      "Red Dragons - Derek Link\n",
      "Royals - Kenny Swenton\n",
      "Royals - Tim Winston\n"
     ]
    }
   ],
   "source": [
    "query = \"\"\"\n",
    "        SELECT team_name, first_name, second_name\n",
    "        FROM football_players INNER JOIN player_in_team \n",
    "        ON football_players.id = player_in_team.player_id \n",
    "        INNER JOIN football_teams \n",
    "        ON football_teams.name = player_in_team.team_name\n",
    "        ORDER BY team_name \n",
    "        \"\"\"\n",
    "con = sqlite3.connect('football.sqlite3')\n",
    "cursor = con.cursor()\n",
    "cursor.execute(query)\n",
    "result = cursor.fetchall()\n",
    "for row in result:\n",
    "    print(f'{row[0]} - {row[1]} {row[2]}')"
   ]
  },
  {
   "cell_type": "code",
   "execution_count": 147,
   "id": "81c22f7f",
   "metadata": {},
   "outputs": [
    {
     "name": "stdout",
     "output_type": "stream",
     "text": [
      "Dogs - John Bell\n",
      "Dogs - Derek Berkley\n",
      "Dogs - Henry Albo\n",
      "Dogs - Antony Clark\n"
     ]
    }
   ],
   "source": [
    "query = \"\"\"\n",
    "        SELECT team_name, first_name, second_name\n",
    "        FROM football_players INNER JOIN player_in_team \n",
    "        ON football_players.id = player_in_team.player_id \n",
    "        INNER JOIN football_teams \n",
    "        ON football_teams.name = player_in_team.team_name\n",
    "        WHERE team_name = 'Dogs'\n",
    "        \"\"\"\n",
    "cursor.execute(query)\n",
    "result = cursor.fetchall()\n",
    "for row in result:\n",
    "    print(f'{row[0]} - {row[1]} {row[2]}')"
   ]
  },
  {
   "cell_type": "markdown",
   "id": "39c312f1",
   "metadata": {},
   "source": [
    "#### Завдання 3\n",
    "    Виведіть топ-5 найстарших гравців.\n"
   ]
  },
  {
   "cell_type": "code",
   "execution_count": 148,
   "id": "4347de5c",
   "metadata": {},
   "outputs": [
    {
     "name": "stdout",
     "output_type": "stream",
     "text": [
      "1989-05-05 - Tim Winston\n",
      "1990-01-01 - John Bell\n",
      "1990-12-05 - Hordon Ramsey\n",
      "1991-09-16 - Henry Albo\n",
      "1993-10-27 - Sem Black\n"
     ]
    }
   ],
   "source": [
    "query = \"\"\"\n",
    "        SELECT birthday, first_name, second_name\n",
    "        FROM football_players \n",
    "        ORDER BY birthday ASC\n",
    "        LIMIT 5\n",
    "        \n",
    "        \"\"\"\n",
    "cursor.execute(query)\n",
    "result = cursor.fetchall()\n",
    "for row in result:\n",
    "    print(f'{row[0]} - {row[1]} {row[2]}')"
   ]
  },
  {
   "cell_type": "markdown",
   "id": "43ebe5bb",
   "metadata": {},
   "source": [
    "#### Завдання 4\n",
    "    Виведіть команду та гравців, які приєдналися до команди у 2020 році "
   ]
  },
  {
   "cell_type": "code",
   "execution_count": 154,
   "id": "dbea0eb6",
   "metadata": {},
   "outputs": [
    {
     "name": "stdout",
     "output_type": "stream",
     "text": [
      "Dogs, 2020-03-03 - John Bell\n",
      "Royals, 2020-07-15 - Kenny Swenton\n",
      "Dogs, 2020-08-08 - Henry Albo\n"
     ]
    }
   ],
   "source": [
    "query = \"\"\"\n",
    "        SELECT team_name, first_name, second_name, start_date\n",
    "        FROM football_players INNER JOIN player_in_team \n",
    "        ON football_players.id = player_in_team.player_id \n",
    "        INNER JOIN football_teams \n",
    "        ON football_teams.name = player_in_team.team_name\n",
    "        WHERE start_date BETWEEN '2020-01-01' AND '2020-12-31'\n",
    "        \"\"\"\n",
    "cursor.execute(query)\n",
    "result = cursor.fetchall()\n",
    "for row in result:\n",
    "    print(f'{row[0]}, {row[3]} - {row[1]} {row[2]}')"
   ]
  }
 ],
 "metadata": {
  "kernelspec": {
   "display_name": "Python 3",
   "language": "python",
   "name": "python3"
  }
 },
 "nbformat": 4,
 "nbformat_minor": 5
}
