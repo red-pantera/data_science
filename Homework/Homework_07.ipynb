{
 "cells": [
  {
   "cell_type": "markdown",
   "id": "6b53e671",
   "metadata": {},
   "source": [
    "#### Завдання 1\n",
    "\n",
    "\tНапишіть функцію new_power(a, b), де a,b - цілі числа. Функція повинна знаходити a**b та повертати стрічку:\n",
    "\t\"Число a  в степені b = a**b\"\n",
    "\tВиведіть результат функції на екран\n",
    "\n",
    "\tПриклад виконання:\n",
    "\t\t----------------**********----------------\n",
    "\t\tВведіть два цілих числа (через пробіл):\n",
    "\t\n",
    "\n",
    "\t\t>>>> 2 10\n",
    "\n",
    "\t\tЧисло 2 в степені 10 = 1024\t\n",
    "\n",
    "\t\t----------------**********----------------\n"
   ]
  },
  {
   "cell_type": "code",
   "execution_count": 19,
   "id": "032106f4",
   "metadata": {},
   "outputs": [
    {
     "name": "stdout",
     "output_type": "stream",
     "text": [
      "Введіть два цілих числа (через пробіл): 4 2\n",
      "Число 4 в степені 2 = 16\n"
     ]
    }
   ],
   "source": [
    "def new_pow(a, b):\n",
    "    result = a ** b\n",
    "    result_str = f'Число {a} в степені {b} = {result}'\n",
    "    return result_str\n",
    "\n",
    "try:\n",
    "    user_input = input('Введіть два цілих числа (через пробіл): ')\n",
    "    numbers = list(map(lambda n: int(n), user_input.split()))   \n",
    "    print(new_pow(numbers[0], numbers[1]))\n",
    "except ValueError:\n",
    "    print(\"Дані введено невірно. Потрібно ввести 2 числа\")\n",
    "except IndexError:\n",
    "    print(\"Для піднесення до степеня потрібно ввести 2 числа\")\n"
   ]
  },
  {
   "cell_type": "markdown",
   "id": "765070f6",
   "metadata": {},
   "source": [
    "#### Завдання 2\n",
    "\t\n",
    "    Напишіть функцію new_sort(*args, r = False), що приймає числа та деякий необов'язковий параметр \"r\" \n",
    "    (Якщо True - то сортування в порядку спадання)\n",
    "\tФункція повертає відсортований список\n"
   ]
  },
  {
   "cell_type": "code",
   "execution_count": 67,
   "id": "b6d4df4e",
   "metadata": {},
   "outputs": [
    {
     "data": {
      "text/plain": [
       "[6, 5, 5, 2, 1]"
      ]
     },
     "execution_count": 67,
     "metadata": {},
     "output_type": "execute_result"
    }
   ],
   "source": [
    "def new_sort(*args, r = False):\n",
    "    args_list = list(args)\n",
    "    sorted_list = sorted(args_list, reverse = r)\n",
    "    return sorted_list\n",
    "\n",
    "new_sort(1, 2, 5, 6, 5, r = True)\n"
   ]
  },
  {
   "cell_type": "markdown",
   "id": "98eff0fe",
   "metadata": {},
   "source": [
    "#### Завдання 3\n",
    "\tНапишіть функцію fac(N), що повертає факторіал числа N. \n",
    "\tФакторіал числа це добуток чисел від 1 до N\t(N! = 1*2*3*...*N)\n",
    "\tРеалізуйте дану функцію двома способами: \n",
    "\t\t- за допомогою циклу\n",
    "\t\t- за допомогою рекурсії\n",
    "\n",
    "\tНе використовуйте бібліотеку math :)\n"
   ]
  },
  {
   "cell_type": "code",
   "execution_count": 35,
   "id": "3a9111f6",
   "metadata": {},
   "outputs": [
    {
     "data": {
      "text/plain": [
       "720"
      ]
     },
     "execution_count": 35,
     "metadata": {},
     "output_type": "execute_result"
    }
   ],
   "source": [
    "# 1ий спосіб за допомогою циклу\n",
    "def fac(N):\n",
    "    result = 1\n",
    "    for i in range(1, N + 1):\n",
    "        result *= i\n",
    "    return result\n",
    "        \n",
    "fac(6)     "
   ]
  },
  {
   "cell_type": "code",
   "execution_count": 37,
   "id": "45d7e1f4",
   "metadata": {},
   "outputs": [
    {
     "data": {
      "text/plain": [
       "720"
      ]
     },
     "execution_count": 37,
     "metadata": {},
     "output_type": "execute_result"
    }
   ],
   "source": [
    "# 2ий спосіб за допомогою рекурсії\n",
    "def fac_recursion(N):\n",
    "    if N <= 1:\n",
    "        return 1\n",
    "    else:\n",
    "        return N * fac_recursion(N-1)\n",
    "\n",
    "fac_recursion(6)"
   ]
  }
 ],
 "metadata": {
  "kernelspec": {
   "display_name": "Python 3",
   "language": "python",
   "name": "python3"
  },
  "language_info": {
   "codemirror_mode": {
    "name": "ipython",
    "version": 3
   },
   "file_extension": ".py",
   "mimetype": "text/x-python",
   "name": "python",
   "nbconvert_exporter": "python",
   "pygments_lexer": "ipython3",
   "version": "3.8.8"
  }
 },
 "nbformat": 4,
 "nbformat_minor": 5
}
