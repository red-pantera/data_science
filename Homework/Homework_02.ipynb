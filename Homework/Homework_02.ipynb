{
 "cells": [
  {
   "cell_type": "markdown",
   "id": "f96dbab6",
   "metadata": {},
   "source": [
    "#### <span style=\"color:red\">У всіх завданнях не використовувати інструкцію \"IF - ELIF - ELSE\"</span>\n",
    "\n",
    "#### Завдання 1\n",
    "    Задано деякі числа A та B (int):\n",
    "        - Перевірити умову: \"Число A є додатнє\"\n",
    "        - Перевірити умову: \"Число A парне\"\n",
    "        - Перевірити умову: \"Число A кратне 13\"\n",
    "        - Перевірити умову: \"Кожне із чисел A та B - парне\"\n",
    "        - Перевірити умову: \"Кожне із чисел A та B мають однакову парність \"\n"
   ]
  },
  {
   "cell_type": "code",
   "execution_count": 11,
   "id": "d2054bc6",
   "metadata": {},
   "outputs": [
    {
     "name": "stdout",
     "output_type": "stream",
     "text": [
      "Число A є додатнє: True\n",
      "Число A парне: True\n",
      "Число A кратне 13: False\n",
      "Кожне із чисел A та B - парне: True\n",
      "Кожне із чисел A та B мають однакову парність : True\n"
     ]
    }
   ],
   "source": [
    "A = 12\n",
    "B = 2\n",
    "print(f'Число A є додатнє: {A > 0}')\n",
    "print(f'Число A парне: {A % 2 == 0}')\n",
    "print(f'Число A кратне 13: {A % 13 == 0}')\n",
    "print(f'Кожне із чисел A та B - парне: {(A % 2 == 0) and (B % 2 == 0)}')\n",
    "print(f'Кожне із чисел A та B мають однакову парність : {(A + B) % 2 == 0 or (A + B) % 2 == 1}')"
   ]
  },
  {
   "cell_type": "markdown",
   "id": "6538d693",
   "metadata": {},
   "source": [
    "#### Завдання 2\n",
    "    Задано деякий пароль Pass (str). Перевірити чи пароль \"сильний\" \n",
    "    (пароль будемо вважати \"сильним\", якщо він складається з 8 символів (або більше) та містить символ @ або #)\n",
    "    Програма повертає True або False\n",
    "    \n",
    "    \n",
    "\n"
   ]
  },
  {
   "cell_type": "code",
   "execution_count": 37,
   "id": "070374fe",
   "metadata": {},
   "outputs": [
    {
     "data": {
      "text/plain": [
       "True"
      ]
     },
     "execution_count": 37,
     "metadata": {},
     "output_type": "execute_result"
    }
   ],
   "source": [
    "password = '12345578@'\n",
    "check_len = len(password) >=8\n",
    "check_sym = ('@' or '#') in password\n",
    "strong_password = check_len and check_sym\n",
    "\n",
    "strong_password"
   ]
  },
  {
   "cell_type": "markdown",
   "id": "f0d76642",
   "metadata": {},
   "source": [
    "#### Завдання 3\n",
    "    Дано деякий символ Char. Вивести символи, що ідуть перед та після символу Char в кодовій таблиці ASCII\n"
   ]
  },
  {
   "cell_type": "code",
   "execution_count": 25,
   "id": "a541f9c1",
   "metadata": {},
   "outputs": [
    {
     "name": "stdout",
     "output_type": "stream",
     "text": [
      "Значення ASCII для a є 97\n",
      "Попередній символ `\n",
      "Наступний символ b\n"
     ]
    }
   ],
   "source": [
    "c = 'a'\n",
    "accii_code = ord(c)\n",
    "print(f\"Значення ASCII для {c} є {accii_code}\")\n",
    "print(f\"Попередній символ {chr(accii_code-1)}\")\n",
    "print(f\"Наступний символ {chr(accii_code+1)}\")"
   ]
  },
  {
   "cell_type": "markdown",
   "id": "93e25470",
   "metadata": {},
   "source": [
    "#### Завдання 4\n",
    "    Дана стрічка, що складається із двох слів розділених пробілом.\n",
    "    Слова та порядок букв в словах поміняйте місцями.\n",
    "    (Наприклад, \"One Two\" --> \"owT enO\")"
   ]
  },
  {
   "cell_type": "code",
   "execution_count": 12,
   "id": "61a548b8",
   "metadata": {},
   "outputs": [
    {
     "data": {
      "text/plain": [
       "'owT enO'"
      ]
     },
     "execution_count": 12,
     "metadata": {},
     "output_type": "execute_result"
    }
   ],
   "source": [
    "srt = 'One Two'\n",
    "srt[::-1]"
   ]
  }
 ],
 "metadata": {
  "kernelspec": {
   "display_name": "Python 3",
   "language": "python",
   "name": "python3"
  },
  "language_info": {
   "codemirror_mode": {
    "name": "ipython",
    "version": 3
   },
   "file_extension": ".py",
   "mimetype": "text/x-python",
   "name": "python",
   "nbconvert_exporter": "python",
   "pygments_lexer": "ipython3",
   "version": "3.8.8"
  }
 },
 "nbformat": 4,
 "nbformat_minor": 5
}
