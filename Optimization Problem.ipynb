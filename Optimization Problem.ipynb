{
 "cells": [
  {
   "cell_type": "markdown",
   "id": "9bdf0d52",
   "metadata": {},
   "source": [
    "## Задача\n",
    "\n",
    "Скільки потрібно працівників на роботу в ресторан, якщо один працівник працює 5 днів в тижень.\n",
    "Враховуючи наплив клієнтів, в кожен день тижня потрібна певна к-сть працівників:\n",
    "\n",
    "Д1 = 14\n",
    "\n",
    "Д2 = 13\n",
    "\n",
    "Д3 = 15\n",
    "\n",
    "Д4 = 16\n",
    "\n",
    "Д5 = 19\n",
    "\n",
    "Д6 = 18 \n",
    "\n",
    "Д7 = 11 \n",
    "\n",
    "Дану задачу можна представити такою системою:\n",
    "$$\n",
    " \\begin{array}{rll}\n",
    " \\displaystyle \\min_{x\\in \\mathbb{R}^7} & x_1 + x_2 + x_3 + x_4 + x_5 + x_6 + x_7 \\\\\n",
    " \\,{\\rm s.t.} & \\begin{array}[t]{rcl}\n",
    "            x_1 + x_4 + x_5 + x_6 + x_7 & \\geq & 14 \\\\\n",
    "            x_1 + x_2 + x_5 + x_6 + x_7 & \\geq & 13 \\\\\n",
    "            x_1 + x_2 + x_3 + x_6 + x_7 & \\geq & 15 \\\\\n",
    "            x_1 + x_2 + x_3 + x_4 + x_7 & \\geq & 16 \\\\\n",
    "            x_1 + x_2 + x_3 + x_4 + x_5 & \\geq & 19 \\\\\n",
    "            x_2 + x_3 + x_4 + x_5 + x_6 & \\geq & 18 \\\\\n",
    "            x_3 + x_4 + x_5 + x_6 + x_7 & \\geq & 11 \\\\\n",
    "            x_i & \\geq & 0 ~~~~ \\forall ~i\n",
    "       \\end{array}\n",
    "   \\end{array}\n",
    "$$"
   ]
  },
  {
   "cell_type": "code",
   "execution_count": 3,
   "id": "a3e6b08b",
   "metadata": {},
   "outputs": [],
   "source": [
    "from scipy.optimize import linprog\n",
    "\n",
    "?linprog"
   ]
  },
  {
   "cell_type": "code",
   "execution_count": 10,
   "id": "07b9539d",
   "metadata": {},
   "outputs": [
    {
     "data": {
      "text/plain": [
       "     con: array([], dtype=float64)\n",
       "     fun: 22.0\n",
       " message: 'Optimization terminated successfully.'\n",
       "     nit: 7\n",
       "   slack: array([0., 4., 0., 0., 0., 0., 0.])\n",
       "  status: 0\n",
       " success: True\n",
       "       x: array([4., 7., 1., 4., 3., 3., 0.])"
      ]
     },
     "execution_count": 10,
     "metadata": {},
     "output_type": "execute_result"
    }
   ],
   "source": [
    "c = [1, 1, 1, 1, 1, 1, 1]\n",
    "\n",
    "# для задачі мінімізації змінюємо знак >= на <=. \n",
    "# домножуємо праву і ліву сторону на -1\n",
    "\n",
    "A_ub = [\n",
    "        [-1, 0, 0, -1, -1, -1, -1], \n",
    "        [-1, -1, 0, 0, -1, -1, -1],\n",
    "        [-1, -1, -1, 0, 0, -1, -1],\n",
    "        [-1, -1, -1, -1, 0, 0, -1],\n",
    "        [-1, -1, -1, -1, -1, 0, 0],\n",
    "        [0, -1, -1, -1, -1, -1, 0],\n",
    "        [0, 0, -1, -1, -1, -1, -1]\n",
    "       ] \n",
    "\n",
    "b_ub = [-14, -13, -15, -16, -19, -18, -11] \n",
    "\n",
    "opt = linprog(c, A_ub, b_ub, method=\"revised simplex\")\n",
    "\n",
    "opt"
   ]
  },
  {
   "cell_type": "code",
   "execution_count": 9,
   "id": "04bd7dae",
   "metadata": {},
   "outputs": [
    {
     "name": "stdout",
     "output_type": "stream",
     "text": [
      "True\n",
      "True\n",
      "True\n",
      "True\n",
      "True\n",
      "True\n",
      "True\n"
     ]
    }
   ],
   "source": [
    "# відповідь\n",
    "x1 = 4\n",
    "x2 = 7\n",
    "x3 = 1\n",
    "x4 = 4\n",
    "x5 = 3\n",
    "x6 = 3\n",
    "x7 = 0\n",
    "\n",
    "# перевірка умов\n",
    "print(x1 + 0 + 0 + x4 + x5 + x6 + x7 >= 14)\n",
    "print(x1 + x2 + 0 + 0 + x5 + x6 + x7 >= 13)\n",
    "print(x1 + x2 + x3 + 0 + 0 + x6 + x7 >= 15)\n",
    "print(x1 + x2 + x3 + x4 + 0 + 0 + x7 >= 16)\n",
    "print(x1 + x2 + x3 + x4 + x5 + 0 + 0 >= 19)\n",
    "print(0 + x2 + x3 + x4 + x5 + x6 + 0 >= 18)\n",
    "print(0 + 0 + x3 + x4 + x5 + x6 + x7 >= 11)\n"
   ]
  }
 ],
 "metadata": {
  "kernelspec": {
   "display_name": "Python 3",
   "language": "python",
   "name": "python3"
  },
  "language_info": {
   "codemirror_mode": {
    "name": "ipython",
    "version": 3
   },
   "file_extension": ".py",
   "mimetype": "text/x-python",
   "name": "python",
   "nbconvert_exporter": "python",
   "pygments_lexer": "ipython3",
   "version": "3.8.8"
  }
 },
 "nbformat": 4,
 "nbformat_minor": 5
}
